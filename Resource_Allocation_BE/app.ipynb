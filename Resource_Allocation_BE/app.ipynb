{
 "cells": [
  {
   "cell_type": "code",
   "execution_count": 136,
   "metadata": {},
   "outputs": [],
   "source": [
    "import pandas as pd"
   ]
  },
  {
   "cell_type": "code",
   "execution_count": 137,
   "metadata": {},
   "outputs": [],
   "source": [
    "def getTierOutput(USERTYPE,PROCESSORSPEED,CPU,RAM,NETWORK):\n",
    "    try:\n",
    "        data = {'UserType': [1, 2, 4, 3, 1], 'ProcessorSpeed': [1, 2, 2, 3, 4], 'vCPUs': [1, 2, 3, 4, 5], 'RAM': [1, 2, 3, 3, 4], 'NetworkBandwidth': [1, 2, 3, 3, 3], 'Output': [1, 2, 3, 4, 5]}\n",
    "        df = pd.DataFrame.from_dict(data)\n",
    "        OutputDF = (df['UserType'] == USERTYPE) & (df['ProcessorSpeed'] == PROCESSORSPEED) & (df['vCPUs'] == CPU) & (df['RAM'] == RAM) & (df['NetworkBandwidth'] == NETWORK)\n",
    "        indexList = [i for i, x in enumerate(OutputDF) if x]\n",
    "        \n",
    "        if(len(indexList)>0):\n",
    "            for a in indexList:\n",
    "                #print(df['Output'][a])\n",
    "                suggestion = df['Output'][a]\n",
    "        else:\n",
    "            print(\"Out of list\")\n",
    "    \n",
    "        return suggestion\n",
    "    \n",
    "    except KeyError:\n",
    "        print('KeyError {}'.format(KeyError))"
   ]
  },
  {
   "cell_type": "code",
   "execution_count": 138,
   "metadata": {},
   "outputs": [],
   "source": [
    "USERTYPE = 1\n",
    "PROCESSORSPEED = 1\n",
    "CPU = 1\n",
    "RAM = 1\n",
    "NETWORK = 1\n",
    "\n",
    "suggestionValue = getTierOutput(USERTYPE,PROCESSORSPEED,CPU,RAM,NETWORK)"
   ]
  },
  {
   "cell_type": "code",
   "execution_count": 139,
   "metadata": {},
   "outputs": [
    {
     "name": "stdout",
     "output_type": "stream",
     "text": [
      "St1.Nano\n"
     ]
    }
   ],
   "source": [
    "def tierSuggestion(suggestion):\n",
    "    switcher = {\n",
    "        1: \"St1.Nano\",\n",
    "        2: \"Mt2.GP\",\n",
    "        3: \"Lt3.Large\",\n",
    "        4: \"Lt4.Xlarge\",\n",
    "        5: \"Mt5.Prem\",\n",
    "    }\n",
    "    \n",
    "    return switcher.get(suggestion, \"nothing\")\n",
    " \n",
    "if __name__ == \"__main__\":\n",
    "    print (tierSuggestion(suggestionValue))"
   ]
  },
  {
   "cell_type": "code",
   "execution_count": null,
   "metadata": {},
   "outputs": [],
   "source": []
  },
  {
   "cell_type": "code",
   "execution_count": null,
   "metadata": {},
   "outputs": [],
   "source": []
  }
 ],
 "metadata": {
  "kernelspec": {
   "display_name": "Python 3",
   "language": "python",
   "name": "python3"
  },
  "language_info": {
   "codemirror_mode": {
    "name": "ipython",
    "version": 3
   },
   "file_extension": ".py",
   "mimetype": "text/x-python",
   "name": "python",
   "nbconvert_exporter": "python",
   "pygments_lexer": "ipython3",
   "version": "3.6.8"
  }
 },
 "nbformat": 4,
 "nbformat_minor": 2
}
