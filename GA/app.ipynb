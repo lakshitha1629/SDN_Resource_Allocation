{
 "cells": [
  {
   "cell_type": "markdown",
   "metadata": {},
   "source": [
    "# Import modules"
   ]
  },
  {
   "cell_type": "code",
   "execution_count": 3,
   "metadata": {},
   "outputs": [],
   "source": [
    "import pandas as pd\n",
    "import numpy as np\n",
    "import os\n",
    "import matplotlib.pyplot as plt\n",
    "import seaborn as sns\n",
    "from pandas.plotting import scatter_matrix\n",
    "import matplotlib.pyplot as plt\n",
    "from sklearn import model_selection\n",
    "from sklearn.metrics import classification_report\n",
    "from sklearn.metrics import confusion_matrix\n",
    "from sklearn.metrics import accuracy_score\n",
    "from sklearn.linear_model import LogisticRegression\n",
    "from sklearn.tree import DecisionTreeClassifier\n",
    "from sklearn.neighbors import KNeighborsClassifier\n",
    "from sklearn.discriminant_analysis import LinearDiscriminantAnalysis\n",
    "from sklearn.naive_bayes import GaussianNB\n",
    "from sklearn.svm import SVC\n",
    "from sklearn.ensemble import GradientBoostingClassifier\n",
    "from sklearn.model_selection import GridSearchCV \n",
    "\n",
    "import warnings\n",
    "warnings.filterwarnings('ignore')"
   ]
  },
  {
   "cell_type": "code",
   "execution_count": 4,
   "metadata": {},
   "outputs": [
    {
     "data": {
      "text/plain": [
       "'\\n====Network Bandwidth========\\n1\\t0-5 GBps\\n2\\t5- 20 GBps\\n3\\t20 -50GBps\\n4\\tabove  50 GBps\\n\\t\\n====User Type====\\n1\\t1-100\\n2\\t101-1000\\n3\\t1-1000\\n4\\tAbove 1000\\n\\n====Processor Speed (Per processor)====\\n1\\t1GHz-2GHz \\n2\\t2GHz -4GHz\\n3\\tAbove 4Hz\\n\\t\\n====Ram====\\n1\\t16-32GB\\n2\\t32-64GB\\n3\\tAbove 64GB\\n\\t\\n====vCPUs====\\n1\\t2 to 12\\n2\\t12 to 20\\n3\\t20  to 32\\n\\n====OutPut====\\n1\\tSt1.Nano\\n2\\tMt2.GP\\n3\\tLt3.Large\\n4\\tLt4.Xlarge\\n\\n'"
      ]
     },
     "execution_count": 4,
     "metadata": {},
     "output_type": "execute_result"
    }
   ],
   "source": [
    "\"\"\"\n",
    "====Network Bandwidth========\n",
    "1\t0-5 GBps\n",
    "2\t5- 20 GBps\n",
    "3\t20 -50GBps\n",
    "4\tabove  50 GBps\n",
    "\t\n",
    "====User Type====\n",
    "1\t1-100\n",
    "2\t101-1000\n",
    "3\t1-1000\n",
    "4\tAbove 1000\n",
    "\n",
    "====Processor Speed (Per processor)====\n",
    "1\t1GHz-2GHz \n",
    "2\t2GHz -4GHz\n",
    "3\tAbove 4Hz\n",
    "3\t1GHz-4GHz \n",
    "\t\n",
    "====Ram====\n",
    "1\t16-32GB\n",
    "2\t32-64GB\n",
    "3\tAbove 64GB\n",
    "4\t16-64GB\n",
    "\t\n",
    "====vCPUs====\n",
    "1\t2 to 12\n",
    "2\t12 to 20\n",
    "3\t20  to 32\n",
    "4\t12 to 32\n",
    "\n",
    "====OutPut====\n",
    "1\tSt1.Nano\n",
    "2\tMt2.GP\n",
    "3\tLt3.Large\n",
    "4\tLt4.Xlarge\n",
    "5\tMt5.Prem\n",
    "\n",
    "\"\"\"\n"
   ]
  },
  {
   "cell_type": "markdown",
   "metadata": {},
   "source": [
    "# Loading the dataset"
   ]
  },
  {
   "cell_type": "code",
   "execution_count": 5,
   "metadata": {},
   "outputs": [
    {
     "data": {
      "text/html": [
       "<div>\n",
       "<style scoped>\n",
       "    .dataframe tbody tr th:only-of-type {\n",
       "        vertical-align: middle;\n",
       "    }\n",
       "\n",
       "    .dataframe tbody tr th {\n",
       "        vertical-align: top;\n",
       "    }\n",
       "\n",
       "    .dataframe thead th {\n",
       "        text-align: right;\n",
       "    }\n",
       "</style>\n",
       "<table border=\"1\" class=\"dataframe\">\n",
       "  <thead>\n",
       "    <tr style=\"text-align: right;\">\n",
       "      <th></th>\n",
       "      <th>NetworkBandwidth</th>\n",
       "      <th>UserType</th>\n",
       "      <th>ProcessorSpeed</th>\n",
       "      <th>RAM</th>\n",
       "      <th>vCPUs</th>\n",
       "      <th>Output</th>\n",
       "    </tr>\n",
       "  </thead>\n",
       "  <tbody>\n",
       "    <tr>\n",
       "      <th>0</th>\n",
       "      <td>1</td>\n",
       "      <td>1</td>\n",
       "      <td>1</td>\n",
       "      <td>1</td>\n",
       "      <td>1</td>\n",
       "      <td>1</td>\n",
       "    </tr>\n",
       "    <tr>\n",
       "      <th>1</th>\n",
       "      <td>3</td>\n",
       "      <td>2</td>\n",
       "      <td>2</td>\n",
       "      <td>2</td>\n",
       "      <td>2</td>\n",
       "      <td>2</td>\n",
       "    </tr>\n",
       "    <tr>\n",
       "      <th>2</th>\n",
       "      <td>4</td>\n",
       "      <td>3</td>\n",
       "      <td>2</td>\n",
       "      <td>3</td>\n",
       "      <td>3</td>\n",
       "      <td>3</td>\n",
       "    </tr>\n",
       "    <tr>\n",
       "      <th>3</th>\n",
       "      <td>4</td>\n",
       "      <td>4</td>\n",
       "      <td>3</td>\n",
       "      <td>3</td>\n",
       "      <td>3</td>\n",
       "      <td>4</td>\n",
       "    </tr>\n",
       "    <tr>\n",
       "      <th>4</th>\n",
       "      <td>1</td>\n",
       "      <td>2</td>\n",
       "      <td>1</td>\n",
       "      <td>1</td>\n",
       "      <td>1</td>\n",
       "      <td>1</td>\n",
       "    </tr>\n",
       "  </tbody>\n",
       "</table>\n",
       "</div>"
      ],
      "text/plain": [
       "   NetworkBandwidth  UserType  ProcessorSpeed  RAM  vCPUs  Output\n",
       "0                 1         1               1    1      1       1\n",
       "1                 3         2               2    2      2       2\n",
       "2                 4         3               2    3      3       3\n",
       "3                 4         4               3    3      3       4\n",
       "4                 1         2               1    1      1       1"
      ]
     },
     "execution_count": 5,
     "metadata": {},
     "output_type": "execute_result"
    }
   ],
   "source": [
    "df = pd.read_csv('Data.csv')\n",
    "df.head()"
   ]
  },
  {
   "cell_type": "code",
   "execution_count": 6,
   "metadata": {},
   "outputs": [
    {
     "data": {
      "text/html": [
       "<div>\n",
       "<style scoped>\n",
       "    .dataframe tbody tr th:only-of-type {\n",
       "        vertical-align: middle;\n",
       "    }\n",
       "\n",
       "    .dataframe tbody tr th {\n",
       "        vertical-align: top;\n",
       "    }\n",
       "\n",
       "    .dataframe thead th {\n",
       "        text-align: right;\n",
       "    }\n",
       "</style>\n",
       "<table border=\"1\" class=\"dataframe\">\n",
       "  <thead>\n",
       "    <tr style=\"text-align: right;\">\n",
       "      <th></th>\n",
       "      <th>NetworkBandwidth</th>\n",
       "      <th>UserType</th>\n",
       "      <th>ProcessorSpeed</th>\n",
       "      <th>RAM</th>\n",
       "      <th>vCPUs</th>\n",
       "      <th>Output</th>\n",
       "    </tr>\n",
       "  </thead>\n",
       "  <tbody>\n",
       "    <tr>\n",
       "      <th>count</th>\n",
       "      <td>40.000000</td>\n",
       "      <td>40.000000</td>\n",
       "      <td>40.000000</td>\n",
       "      <td>40.000000</td>\n",
       "      <td>40.000000</td>\n",
       "      <td>40.000000</td>\n",
       "    </tr>\n",
       "    <tr>\n",
       "      <th>mean</th>\n",
       "      <td>2.800000</td>\n",
       "      <td>2.500000</td>\n",
       "      <td>2.125000</td>\n",
       "      <td>2.050000</td>\n",
       "      <td>2.150000</td>\n",
       "      <td>2.500000</td>\n",
       "    </tr>\n",
       "    <tr>\n",
       "      <th>std</th>\n",
       "      <td>1.304823</td>\n",
       "      <td>1.132277</td>\n",
       "      <td>0.757442</td>\n",
       "      <td>0.875595</td>\n",
       "      <td>0.863802</td>\n",
       "      <td>1.132277</td>\n",
       "    </tr>\n",
       "    <tr>\n",
       "      <th>min</th>\n",
       "      <td>1.000000</td>\n",
       "      <td>1.000000</td>\n",
       "      <td>1.000000</td>\n",
       "      <td>1.000000</td>\n",
       "      <td>1.000000</td>\n",
       "      <td>1.000000</td>\n",
       "    </tr>\n",
       "    <tr>\n",
       "      <th>25%</th>\n",
       "      <td>1.000000</td>\n",
       "      <td>1.750000</td>\n",
       "      <td>2.000000</td>\n",
       "      <td>1.000000</td>\n",
       "      <td>1.000000</td>\n",
       "      <td>1.750000</td>\n",
       "    </tr>\n",
       "    <tr>\n",
       "      <th>50%</th>\n",
       "      <td>3.000000</td>\n",
       "      <td>2.500000</td>\n",
       "      <td>2.000000</td>\n",
       "      <td>2.000000</td>\n",
       "      <td>2.000000</td>\n",
       "      <td>2.500000</td>\n",
       "    </tr>\n",
       "    <tr>\n",
       "      <th>75%</th>\n",
       "      <td>4.000000</td>\n",
       "      <td>3.250000</td>\n",
       "      <td>3.000000</td>\n",
       "      <td>3.000000</td>\n",
       "      <td>3.000000</td>\n",
       "      <td>3.250000</td>\n",
       "    </tr>\n",
       "    <tr>\n",
       "      <th>max</th>\n",
       "      <td>4.000000</td>\n",
       "      <td>4.000000</td>\n",
       "      <td>3.000000</td>\n",
       "      <td>3.000000</td>\n",
       "      <td>3.000000</td>\n",
       "      <td>4.000000</td>\n",
       "    </tr>\n",
       "  </tbody>\n",
       "</table>\n",
       "</div>"
      ],
      "text/plain": [
       "       NetworkBandwidth   UserType  ProcessorSpeed        RAM      vCPUs  \\\n",
       "count         40.000000  40.000000       40.000000  40.000000  40.000000   \n",
       "mean           2.800000   2.500000        2.125000   2.050000   2.150000   \n",
       "std            1.304823   1.132277        0.757442   0.875595   0.863802   \n",
       "min            1.000000   1.000000        1.000000   1.000000   1.000000   \n",
       "25%            1.000000   1.750000        2.000000   1.000000   1.000000   \n",
       "50%            3.000000   2.500000        2.000000   2.000000   2.000000   \n",
       "75%            4.000000   3.250000        3.000000   3.000000   3.000000   \n",
       "max            4.000000   4.000000        3.000000   3.000000   3.000000   \n",
       "\n",
       "          Output  \n",
       "count  40.000000  \n",
       "mean    2.500000  \n",
       "std     1.132277  \n",
       "min     1.000000  \n",
       "25%     1.750000  \n",
       "50%     2.500000  \n",
       "75%     3.250000  \n",
       "max     4.000000  "
      ]
     },
     "execution_count": 6,
     "metadata": {},
     "output_type": "execute_result"
    }
   ],
   "source": [
    "# to display stats about data\n",
    "df.describe()"
   ]
  },
  {
   "cell_type": "code",
   "execution_count": 7,
   "metadata": {},
   "outputs": [
    {
     "name": "stdout",
     "output_type": "stream",
     "text": [
      "<class 'pandas.core.frame.DataFrame'>\n",
      "RangeIndex: 40 entries, 0 to 39\n",
      "Data columns (total 6 columns):\n",
      " #   Column            Non-Null Count  Dtype\n",
      "---  ------            --------------  -----\n",
      " 0   NetworkBandwidth  40 non-null     int64\n",
      " 1   UserType          40 non-null     int64\n",
      " 2   ProcessorSpeed    40 non-null     int64\n",
      " 3   RAM               40 non-null     int64\n",
      " 4   vCPUs             40 non-null     int64\n",
      " 5   Output            40 non-null     int64\n",
      "dtypes: int64(6)\n",
      "memory usage: 2.0 KB\n"
     ]
    }
   ],
   "source": [
    "# to basic info about datatype\n",
    "df.info()"
   ]
  },
  {
   "cell_type": "code",
   "execution_count": 8,
   "metadata": {},
   "outputs": [
    {
     "data": {
      "text/plain": [
       "4    10\n",
       "3    10\n",
       "2    10\n",
       "1    10\n",
       "Name: Output, dtype: int64"
      ]
     },
     "execution_count": 8,
     "metadata": {},
     "output_type": "execute_result"
    }
   ],
   "source": [
    "# to display no. of samples on each class\n",
    "# 'WickedChocolate','CoconutIsland','NutsPeanutButter','HeavenlyHazelnut','Chocolate','BerryBlonde'\n",
    "df['Output'].value_counts()"
   ]
  },
  {
   "cell_type": "markdown",
   "metadata": {},
   "source": [
    "# Preprocessing the dataset"
   ]
  },
  {
   "cell_type": "code",
   "execution_count": 9,
   "metadata": {},
   "outputs": [
    {
     "data": {
      "text/plain": [
       "NetworkBandwidth    0\n",
       "UserType            0\n",
       "ProcessorSpeed      0\n",
       "RAM                 0\n",
       "vCPUs               0\n",
       "Output              0\n",
       "dtype: int64"
      ]
     },
     "execution_count": 9,
     "metadata": {},
     "output_type": "execute_result"
    }
   ],
   "source": [
    "# check for null values\n",
    "df.isnull().sum()"
   ]
  },
  {
   "cell_type": "markdown",
   "metadata": {},
   "source": [
    "# Label Encoder"
   ]
  },
  {
   "cell_type": "code",
   "execution_count": 10,
   "metadata": {},
   "outputs": [],
   "source": [
    "from sklearn.preprocessing import LabelEncoder\n",
    "le = LabelEncoder()"
   ]
  },
  {
   "cell_type": "code",
   "execution_count": 11,
   "metadata": {},
   "outputs": [
    {
     "data": {
      "text/html": [
       "<div>\n",
       "<style scoped>\n",
       "    .dataframe tbody tr th:only-of-type {\n",
       "        vertical-align: middle;\n",
       "    }\n",
       "\n",
       "    .dataframe tbody tr th {\n",
       "        vertical-align: top;\n",
       "    }\n",
       "\n",
       "    .dataframe thead th {\n",
       "        text-align: right;\n",
       "    }\n",
       "</style>\n",
       "<table border=\"1\" class=\"dataframe\">\n",
       "  <thead>\n",
       "    <tr style=\"text-align: right;\">\n",
       "      <th></th>\n",
       "      <th>NetworkBandwidth</th>\n",
       "      <th>UserType</th>\n",
       "      <th>ProcessorSpeed</th>\n",
       "      <th>RAM</th>\n",
       "      <th>vCPUs</th>\n",
       "      <th>Output</th>\n",
       "    </tr>\n",
       "  </thead>\n",
       "  <tbody>\n",
       "    <tr>\n",
       "      <th>34</th>\n",
       "      <td>4</td>\n",
       "      <td>3</td>\n",
       "      <td>3</td>\n",
       "      <td>1</td>\n",
       "      <td>3</td>\n",
       "      <td>2</td>\n",
       "    </tr>\n",
       "    <tr>\n",
       "      <th>38</th>\n",
       "      <td>4</td>\n",
       "      <td>3</td>\n",
       "      <td>2</td>\n",
       "      <td>1</td>\n",
       "      <td>1</td>\n",
       "      <td>2</td>\n",
       "    </tr>\n",
       "  </tbody>\n",
       "</table>\n",
       "</div>"
      ],
      "text/plain": [
       "    NetworkBandwidth  UserType  ProcessorSpeed  RAM  vCPUs  Output\n",
       "34                 4         3               3    1      3       2\n",
       "38                 4         3               2    1      1       2"
      ]
     },
     "execution_count": 11,
     "metadata": {},
     "output_type": "execute_result"
    }
   ],
   "source": [
    "df['Output'] = le.fit_transform(df['Output'])\n",
    "df.sample(2)\n",
    "# df.head()"
   ]
  },
  {
   "cell_type": "markdown",
   "metadata": {},
   "source": [
    "# Model Training"
   ]
  },
  {
   "cell_type": "code",
   "execution_count": 24,
   "metadata": {},
   "outputs": [],
   "source": [
    "from sklearn.model_selection import train_test_split\n",
    "# train - 70\n",
    "# test - 30\n",
    "X = df.drop(columns=['Output'])\n",
    "Y = df['Output']\n",
    "x_train, x_test, y_train, y_test = train_test_split(X, Y, test_size=0.30)"
   ]
  },
  {
   "cell_type": "code",
   "execution_count": 40,
   "metadata": {},
   "outputs": [],
   "source": [
    "import numpy"
   ]
  },
  {
   "cell_type": "code",
   "execution_count": 41,
   "metadata": {},
   "outputs": [],
   "source": [
    "data_inputs = df[['NetworkBandwidth','UserType','ProcessorSpeed','RAM','vCPUs']].to_numpy()\n",
    "data_outputs = df[['Output']].to_numpy()"
   ]
  },
  {
   "cell_type": "code",
   "execution_count": 42,
   "metadata": {},
   "outputs": [
    {
     "name": "stdout",
     "output_type": "stream",
     "text": [
      "[[1 1 1 1 1]\n",
      " [3 2 2 2 2]\n",
      " [4 3 2 3 3]\n",
      " [4 4 3 3 3]\n",
      " [1 2 1 1 1]\n",
      " [3 3 2 2 2]\n",
      " [4 4 2 3 3]\n",
      " [4 1 3 3 3]\n",
      " [1 1 2 1 1]\n",
      " [3 2 3 2 2]\n",
      " [4 3 3 3 3]\n",
      " [4 4 1 3 3]\n",
      " [1 1 1 2 1]\n",
      " [3 2 2 3 2]\n",
      " [4 3 2 1 3]\n",
      " [4 4 3 1 3]\n",
      " [1 1 1 1 2]\n",
      " [3 2 2 2 3]\n",
      " [4 3 2 3 1]\n",
      " [4 4 3 3 1]\n",
      " [2 1 1 1 1]\n",
      " [4 2 2 2 2]\n",
      " [1 3 2 3 3]\n",
      " [1 4 3 3 3]\n",
      " [2 2 1 1 1]\n",
      " [4 3 2 2 2]\n",
      " [1 4 2 3 3]\n",
      " [1 1 3 3 3]\n",
      " [1 1 2 2 1]\n",
      " [3 2 3 3 2]\n",
      " [4 3 3 1 3]\n",
      " [4 4 1 1 3]\n",
      " [1 1 2 2 1]\n",
      " [3 2 3 3 2]\n",
      " [4 3 3 1 3]\n",
      " [4 4 3 1 3]\n",
      " [1 1 1 2 2]\n",
      " [3 2 2 3 3]\n",
      " [4 3 2 1 1]\n",
      " [4 4 3 1 1]]\n"
     ]
    }
   ],
   "source": [
    "print(data_inputs)"
   ]
  },
  {
   "cell_type": "code",
   "execution_count": 43,
   "metadata": {},
   "outputs": [
    {
     "name": "stdout",
     "output_type": "stream",
     "text": [
      "[[0]\n",
      " [1]\n",
      " [2]\n",
      " [3]\n",
      " [0]\n",
      " [1]\n",
      " [2]\n",
      " [3]\n",
      " [0]\n",
      " [1]\n",
      " [2]\n",
      " [3]\n",
      " [0]\n",
      " [1]\n",
      " [2]\n",
      " [3]\n",
      " [0]\n",
      " [1]\n",
      " [2]\n",
      " [3]\n",
      " [0]\n",
      " [1]\n",
      " [2]\n",
      " [3]\n",
      " [0]\n",
      " [1]\n",
      " [2]\n",
      " [3]\n",
      " [0]\n",
      " [1]\n",
      " [2]\n",
      " [3]\n",
      " [0]\n",
      " [1]\n",
      " [2]\n",
      " [3]\n",
      " [0]\n",
      " [1]\n",
      " [2]\n",
      " [3]]\n"
     ]
    }
   ],
   "source": [
    "print(data_output)"
   ]
  },
  {
   "cell_type": "code",
   "execution_count": 29,
   "metadata": {},
   "outputs": [],
   "source": [
    "data_outputs = numpy.array([[0.1],\n",
    "                            [0.6],\n",
    "                            [1.3],\n",
    "                            [2.5]])"
   ]
  },
  {
   "cell_type": "code",
   "execution_count": 31,
   "metadata": {},
   "outputs": [
    {
     "name": "stdout",
     "output_type": "stream",
     "text": [
      "[[0.1]\n",
      " [0.6]\n",
      " [1.3]\n",
      " [2.5]]\n"
     ]
    }
   ],
   "source": [
    "print(data_outputs)"
   ]
  },
  {
   "cell_type": "code",
   "execution_count": 13,
   "metadata": {},
   "outputs": [
    {
     "data": {
      "text/plain": [
       "KNeighborsClassifier()"
      ]
     },
     "execution_count": 13,
     "metadata": {},
     "output_type": "execute_result"
    }
   ],
   "source": [
    "from sklearn.tree import DecisionTreeClassifier\n",
    "# model = LogisticRegression()\n",
    "# model = LinearDiscriminantAnalysis()\n",
    "model = KNeighborsClassifier()\n",
    "# model = DecisionTreeClassifier()\n",
    "# model = GaussianNB()\n",
    "# model = SVC()\n",
    "# model = GradientBoostingClassifier(n_estimators=20, learning_rate=0.5, max_features=2, max_depth=2, random_state=0)\n",
    "\n",
    "# model training\n",
    "model.fit(x_train, y_train)"
   ]
  },
  {
   "cell_type": "code",
   "execution_count": null,
   "metadata": {},
   "outputs": [],
   "source": []
  },
  {
   "cell_type": "code",
   "execution_count": 14,
   "metadata": {},
   "outputs": [
    {
     "name": "stdout",
     "output_type": "stream",
     "text": [
      "Accuracy:  58.333333333333336\n"
     ]
    }
   ],
   "source": [
    "print(\"Accuracy: \",model.score(x_test, y_test) * 100)"
   ]
  },
  {
   "cell_type": "code",
   "execution_count": 38,
   "metadata": {},
   "outputs": [],
   "source": [
    "def predict_mpg(config, model):\n",
    "    \n",
    "    if type(config) == dict:\n",
    "        df = pd.DataFrame(config)\n",
    "    else:\n",
    "        df = config\n",
    "    \n",
    "#     print(prepared_df)\n",
    "    y_pred = model.predict(df)\n",
    "    return y_pred\n",
    "    "
   ]
  },
  {
   "cell_type": "code",
   "execution_count": 44,
   "metadata": {},
   "outputs": [
    {
     "data": {
      "text/plain": [
       "'St1.Nano'"
      ]
     },
     "execution_count": 44,
     "metadata": {},
     "output_type": "execute_result"
    }
   ],
   "source": [
    "config = {\n",
    "    'NetworkBandwidth': [1],\n",
    "    'UserType': [1],\n",
    "    'ProcessorSpeed': [1],\n",
    "    'RAM': [1],\n",
    "    'vCPUs': [1]\n",
    "}\n",
    "\n",
    "predictValue = predict_mpg(config, model)\n",
    "\n",
    "OutPutList=[\"St1.Nano\",\"Mt2.GP\",\"Lt3.Large\",\"Lt4.Xlarge\"]\n",
    "\n",
    "OutPutList[int(predictValue)]"
   ]
  },
  {
   "cell_type": "markdown",
   "metadata": {},
   "source": [
    "# Create Model File"
   ]
  },
  {
   "cell_type": "code",
   "execution_count": 30,
   "metadata": {},
   "outputs": [
    {
     "name": "stdout",
     "output_type": "stream",
     "text": [
      "Test score: 50.00 %\n"
     ]
    }
   ],
   "source": [
    "import pickle\n",
    "\n",
    "# Save to file in the current working directory\n",
    "pkl_filename = \"model.pkl\"\n",
    "with open(pkl_filename, 'wb') as file:\n",
    "    pickle.dump(model, file)\n",
    "\n",
    "# Load from file\n",
    "with open(pkl_filename, 'rb') as file:\n",
    "    pickle_model = pickle.load(file)\n",
    "    \n",
    "# Calculate the accuracy score and predict target values\n",
    "score = pickle_model.score(x_test, y_test)\n",
    "print(\"Test score: {0:.2f} %\".format(100 * score))\n",
    "Ypredict = pickle_model.predict(x_test)"
   ]
  },
  {
   "cell_type": "code",
   "execution_count": 31,
   "metadata": {},
   "outputs": [
    {
     "data": {
      "text/plain": [
       "array([0], dtype=int64)"
      ]
     },
     "execution_count": 31,
     "metadata": {},
     "output_type": "execute_result"
    }
   ],
   "source": [
    "##loading the model from the saved file\n",
    "pkl_filename = \"model.pkl\"\n",
    "with open(pkl_filename, 'rb') as f_in:\n",
    "    model = pickle.load(f_in)\n",
    "\n",
    "predict_mpg(config, model)"
   ]
  },
  {
   "cell_type": "code",
   "execution_count": null,
   "metadata": {},
   "outputs": [],
   "source": []
  },
  {
   "cell_type": "code",
   "execution_count": null,
   "metadata": {},
   "outputs": [],
   "source": []
  }
 ],
 "metadata": {
  "kernelspec": {
   "display_name": "Python 3",
   "language": "python",
   "name": "python3"
  },
  "language_info": {
   "codemirror_mode": {
    "name": "ipython",
    "version": 3
   },
   "file_extension": ".py",
   "mimetype": "text/x-python",
   "name": "python",
   "nbconvert_exporter": "python",
   "pygments_lexer": "ipython3",
   "version": "3.6.13"
  }
 },
 "nbformat": 4,
 "nbformat_minor": 4
}
