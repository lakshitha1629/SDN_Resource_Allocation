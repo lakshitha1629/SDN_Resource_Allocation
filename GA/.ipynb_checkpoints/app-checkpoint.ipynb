{
 "cells": [
  {
   "cell_type": "code",
   "execution_count": 2,
   "id": "839945a2",
   "metadata": {},
   "outputs": [],
   "source": [
    "import tensorflow.keras as K\n",
    "import numpy\n",
    "import pandas as pd\n",
    "import os\n",
    "\n",
    "import warnings\n",
    "warnings.filterwarnings('ignore')"
   ]
  },
  {
   "cell_type": "code",
   "execution_count": 27,
   "id": "603217d2",
   "metadata": {},
   "outputs": [],
   "source": [
    "def tierSuggestion(config):\n",
    "    try:\n",
    "        json_file = open('model.json', 'r')\n",
    "        model_json = json_file.read()\n",
    "        json_file.close()\n",
    "        model = K.models.model_from_json(model_json)\n",
    "        model.load_weights(\"model.h5\")\n",
    "\n",
    "        if type(config) == dict:\n",
    "            df = pd.DataFrame(config)\n",
    "        else:\n",
    "            df = config\n",
    "\n",
    "        predictValuePre = model.predict(df)\n",
    "        predictValue = round(predictValuePre[0][0])-1\n",
    "        OutPutList=[\"St1.Nano\",\"Mt2.GP\",\"Lt3.Large\",\"Lt4.Xlarge\",\"Mt5.Prem\"]\n",
    "        return OutPutList[predictValue] \n",
    "    except:\n",
    "        return \"Out of the range\"\n",
    "    "
   ]
  },
  {
   "cell_type": "code",
   "execution_count": 28,
   "id": "c57b287b",
   "metadata": {},
   "outputs": [
    {
     "name": "stdout",
     "output_type": "stream",
     "text": [
      "{'UserType': [2], 'ProcessorSpeed': [2], 'vCPUs': [2], 'RAM': [2], 'NetworkBandwidth': [2]}\n",
      "   UserType  ProcessorSpeed  vCPUs  RAM  NetworkBandwidth\n",
      "0         2               2      2    2                 2\n"
     ]
    },
    {
     "data": {
      "text/plain": [
       "'Mt2.GP'"
      ]
     },
     "execution_count": 28,
     "metadata": {},
     "output_type": "execute_result"
    }
   ],
   "source": [
    "config = {\n",
    "   \"UserType\":[2],\n",
    "   \"ProcessorSpeed\":[2],\n",
    "   \"vCPUs\":[2],\n",
    "   \"RAM\":[2],\n",
    "   \"NetworkBandwidth\":[2]\n",
    "}\n",
    "tierSuggestion(config)"
   ]
  },
  {
   "cell_type": "code",
   "execution_count": 24,
   "id": "6f9a7cfe",
   "metadata": {},
   "outputs": [
    {
     "ename": "SyntaxError",
     "evalue": "invalid syntax (<ipython-input-24-a71b6376118a>, line 18)",
     "output_type": "error",
     "traceback": [
      "\u001b[1;36m  File \u001b[1;32m\"<ipython-input-24-a71b6376118a>\"\u001b[1;36m, line \u001b[1;32m18\u001b[0m\n\u001b[1;33m    print (''Memory limit changed to :', soft1)\u001b[0m\n\u001b[1;37m                  ^\u001b[0m\n\u001b[1;31mSyntaxError\u001b[0m\u001b[1;31m:\u001b[0m invalid syntax\n"
     ]
    }
   ],
   "source": [
    "import resource\n",
    "import os\n",
    "\n",
    "def resourceAllocation(i):\n",
    "    Number_of_processes = [10000,20000]\n",
    "    Memory = [10000000,20000000]\n",
    "\n",
    "    soft, hard = resource.getrlimit(resource.RLIMIT_NPROC)\n",
    "    print ('Number of processes starts as  :', soft)\n",
    "    resource.setrlimit(resource.RLIMIT_NPROC, (Number_of_processes[i], hard))\n",
    "    soft, hard = resource.getrlimit(resource.RLIMIT_NPROC)\n",
    "    print ('Number of processes limit changed to :', soft)\n",
    "\n",
    "    soft1, hard1 = resource.getrlimit(resource.RLIMIT_MEMLOCK)\n",
    "    print ('Memory starts as  :', soft1)\n",
    "    resource.setrlimit(resource.RLIMIT_MEMLOCK, (Memory[i], hard1))\n",
    "    soft1, hard1 = resource.getrlimit(resource.RLIMIT_MEMLOCK)\n",
    "    print (''Memory limit changed to :', soft1)\n",
    "    \n",
    "resourceAllocation(0)"
   ]
  },
  {
   "cell_type": "code",
   "execution_count": null,
   "id": "edc0903d",
   "metadata": {},
   "outputs": [],
   "source": [
    "def tierSuggestion(config):\n",
    "    try:\n",
    "        json_file = open('model.json', 'r')\n",
    "        model_json = json_file.read()\n",
    "        json_file.close()\n",
    "        model = K.models.model_from_json(model_json)\n",
    "        model.load_weights(\"model.h5\")\n",
    "\n",
    "        if type(config) == dict:\n",
    "            df = pd.DataFrame(config)\n",
    "        else:\n",
    "            df = config\n",
    "\n",
    "        predictValuePre = model.predict(df)\n",
    "        predictValue = round(predictValuePre[0][0])-1\n",
    "        \n",
    "        i = int(predictValue)\n",
    "        Number_of_processes = [10000,20000]\n",
    "        Memory = [10000000,20000000]\n",
    "        soft, hard = resource.getrlimit(resource.RLIMIT_NPROC)\n",
    "        print ('Number of processes starts as  :', soft)\n",
    "        resource.setrlimit(resource.RLIMIT_NPROC, (Number_of_processes[i], hard))\n",
    "        soft, hard = resource.getrlimit(resource.RLIMIT_NPROC)\n",
    "        print ('Number of processes limit changed to :', soft)\n",
    "\n",
    "        soft1, hard1 = resource.getrlimit(resource.RLIMIT_MEMLOCK)\n",
    "        print ('Memory starts as  :', soft1)\n",
    "        resource.setrlimit(resource.RLIMIT_MEMLOCK, (Memory[i], hard1))\n",
    "        soft1, hard1 = resource.getrlimit(resource.RLIMIT_MEMLOCK)\n",
    "        print ('Memory limit changed to :', soft1)\n",
    "               \n",
    "        OutPutList=[\"St1.Nano\",\"Mt2.GP\",\"Lt3.Large\",\"Lt4.Xlarge\",\"Mt5.Prem\"]\n",
    "        return OutPutList[predictValue] \n",
    "    except:\n",
    "        return \"Out of the range\"\n",
    "    "
   ]
  }
 ],
 "metadata": {
  "kernelspec": {
   "display_name": "Python 3",
   "language": "python",
   "name": "python3"
  },
  "language_info": {
   "codemirror_mode": {
    "name": "ipython",
    "version": 3
   },
   "file_extension": ".py",
   "mimetype": "text/x-python",
   "name": "python",
   "nbconvert_exporter": "python",
   "pygments_lexer": "ipython3",
   "version": "3.6.13"
  }
 },
 "nbformat": 4,
 "nbformat_minor": 5
}
