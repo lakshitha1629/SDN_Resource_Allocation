{
 "cells": [
  {
   "cell_type": "code",
   "execution_count": 1,
   "id": "5b205dc2",
   "metadata": {},
   "outputs": [],
   "source": [
    "import tensorflow.keras\n",
    "import numpy\n",
    "import pandas as pd"
   ]
  },
  {
   "cell_type": "code",
   "execution_count": 2,
   "id": "c34ed5dd",
   "metadata": {},
   "outputs": [],
   "source": [
    "def predict_mpg(config, model):\n",
    "    \n",
    "    if type(config) == dict:\n",
    "        df = pd.DataFrame(config)\n",
    "    else:\n",
    "        df = config\n",
    "    \n",
    "#     print(prepared_df)\n",
    "    y_pred = model.predict(df)\n",
    "    return y_pred "
   ]
  },
  {
   "cell_type": "code",
   "execution_count": 3,
   "id": "b8b29e40",
   "metadata": {},
   "outputs": [
    {
     "name": "stdout",
     "output_type": "stream",
     "text": [
      "Loaded model from disk\n"
     ]
    }
   ],
   "source": [
    "# load json and create model\n",
    "json_file = open('model.json', 'r')\n",
    "loaded_model_json = json_file.read()\n",
    "json_file.close()\n",
    "loaded_model = tensorflow.keras.models.model_from_json(loaded_model_json)\n",
    "# load weights into new model\n",
    "loaded_model.load_weights(\"model.h5\")\n",
    "print(\"Loaded model from disk\")"
   ]
  },
  {
   "cell_type": "code",
   "execution_count": 7,
   "id": "fb6a4153",
   "metadata": {},
   "outputs": [
    {
     "name": "stdout",
     "output_type": "stream",
     "text": [
      "[[1.8940458]]\n",
      "2\n"
     ]
    },
    {
     "data": {
      "text/plain": [
       "'Mt2.GP'"
      ]
     },
     "execution_count": 7,
     "metadata": {},
     "output_type": "execute_result"
    }
   ],
   "source": [
    "config = {\n",
    "    'NetworkBandwidth': [1],\n",
    "    'UserType': [1],\n",
    "    'ProcessorSpeed': [2],\n",
    "    'RAM': [1],\n",
    "    'vCPUs': [1]\n",
    "}\n",
    "\n",
    "predictValuePre = predict_mpg(config, loaded_model)\n",
    "print(predictValuePre)\n",
    "print(round(predictValuePre[0][0]))\n",
    "predictValue = round(predictValuePre[0][0])-1\n",
    "OutPutList=[\"St1.Nano\",\"Mt2.GP\",\"Lt3.Large\",\"Lt4.Xlarge\",\"Mt5.Prem\"]\n",
    "\n",
    "OutPutList[predictValue]"
   ]
  },
  {
   "cell_type": "code",
   "execution_count": null,
   "id": "182b2315",
   "metadata": {},
   "outputs": [],
   "source": []
  },
  {
   "cell_type": "code",
   "execution_count": null,
   "id": "93cf6346",
   "metadata": {},
   "outputs": [],
   "source": []
  }
 ],
 "metadata": {
  "kernelspec": {
   "display_name": "Python 3",
   "language": "python",
   "name": "python3"
  },
  "language_info": {
   "codemirror_mode": {
    "name": "ipython",
    "version": 3
   },
   "file_extension": ".py",
   "mimetype": "text/x-python",
   "name": "python",
   "nbconvert_exporter": "python",
   "pygments_lexer": "ipython3",
   "version": "3.6.13"
  }
 },
 "nbformat": 4,
 "nbformat_minor": 5
}
