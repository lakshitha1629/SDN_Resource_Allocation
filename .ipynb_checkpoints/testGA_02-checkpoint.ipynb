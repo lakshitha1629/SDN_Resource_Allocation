{
 "cells": [
  {
   "cell_type": "markdown",
   "id": "505c9df7",
   "metadata": {},
   "source": [
    "# Import modules"
   ]
  },
  {
   "cell_type": "code",
   "execution_count": 1,
   "id": "62f602fb",
   "metadata": {},
   "outputs": [],
   "source": [
    "import tensorflow.keras\n",
    "import pygad.kerasga\n",
    "import numpy\n",
    "import pygad\n",
    "import pandas as pd\n",
    "import matplotlib.pyplot as plt"
   ]
  },
  {
   "cell_type": "code",
   "execution_count": 2,
   "id": "f89d4514",
   "metadata": {},
   "outputs": [
    {
     "data": {
      "text/plain": [
       "'\\n====Network Bandwidth========\\n1\\t0-5 GBps\\n2\\t5- 20 GBps\\n3\\t20 -50GBps\\n4\\tabove  50 GBps\\n\\t\\n====User Type====\\n1\\t1-100\\n2\\t101-1000\\n3\\t1-1000\\n4\\tAbove 1000\\n\\n====Processor Speed (Per processor)====\\n1\\t1GHz-2GHz \\n2\\t2GHz -4GHz\\n3\\tAbove 4Hz\\n3\\t1GHz-4GHz \\n\\t\\n====Ram====\\n1\\t16-32GB\\n2\\t32-64GB\\n3\\tAbove 64GB\\n4\\t16-64GB\\n\\t\\n====vCPUs====\\n1\\t2 to 12\\n2\\t12 to 20\\n3\\t20  to 32\\n4\\t12 to 32\\n\\n====OutPut====\\n1\\tSt1.Nano\\n2\\tMt2.GP\\n3\\tLt3.Large\\n4\\tLt4.Xlarge\\n5\\tMt5.Prem\\n\\n'"
      ]
     },
     "execution_count": 2,
     "metadata": {},
     "output_type": "execute_result"
    }
   ],
   "source": [
    "\"\"\"\n",
    "====Network Bandwidth========\n",
    "1\t0-5 GBps\n",
    "2\t5- 20 GBps\n",
    "3\t20 -50GBps\n",
    "4\tabove  50 GBps\n",
    "\t\n",
    "====User Type====\n",
    "1\t1-100\n",
    "2\t101-1000\n",
    "3\t1-1000\n",
    "4\tAbove 1000\n",
    "\n",
    "====Processor Speed (Per processor)====\n",
    "1\t1GHz-2GHz \n",
    "2\t2GHz -4GHz\n",
    "3\tAbove 4Hz\n",
    "3\t1GHz-4GHz \n",
    "\t\n",
    "====Ram====\n",
    "1\t16-32GB\n",
    "2\t32-64GB\n",
    "3\tAbove 64GB\n",
    "4\t16-64GB\n",
    "\t\n",
    "====vCPUs====\n",
    "1\t2 to 12\n",
    "2\t12 to 20\n",
    "3\t20  to 32\n",
    "4\t12 to 32\n",
    "\n",
    "====OutPut====\n",
    "1\tSt1.Nano\n",
    "2\tMt2.GP\n",
    "3\tLt3.Large\n",
    "4\tLt4.Xlarge\n",
    "5\tMt5.Prem\n",
    "\n",
    "\"\"\"\n"
   ]
  },
  {
   "cell_type": "markdown",
   "id": "b6c89d1a",
   "metadata": {},
   "source": [
    "# Model Training"
   ]
  },
  {
   "cell_type": "code",
   "execution_count": 3,
   "id": "3170d173",
   "metadata": {},
   "outputs": [],
   "source": [
    "def fitness_func(solution, sol_idx):\n",
    "    global data_inputs, data_outputs, keras_ga, model\n",
    "\n",
    "    model_weights_matrix = pygad.kerasga.model_weights_as_matrix(model=model,\n",
    "                                                                 weights_vector=solution)\n",
    "\n",
    "    model.set_weights(weights=model_weights_matrix)\n",
    "\n",
    "    predictions = model.predict(data_inputs)\n",
    "\n",
    "    mae = tensorflow.keras.losses.MeanAbsoluteError()\n",
    "    error = mae(data_outputs, predictions).numpy()\n",
    "\n",
    "    solution_fitness = 1.0 / (error + 0.00000001)\n",
    "\n",
    "    return solution_fitness\n",
    "\n",
    "def on_generation(ga_instance):\n",
    "    print(\"Generation = {generation}\".format(generation=ga_instance.generations_completed))\n",
    "    print(\"Fitness    = {fitness}\".format(fitness=ga_instance.best_solution(ga_instance.last_generation_fitness)[1]), end='\\n\\n')\n",
    "\n"
   ]
  },
  {
   "cell_type": "code",
   "execution_count": 4,
   "id": "af7ec93f",
   "metadata": {},
   "outputs": [
    {
     "name": "stdout",
     "output_type": "stream",
     "text": [
      "Generation = 1\n",
      "Fitness    = 2.5914313593811236\n",
      "\n",
      "Generation = 2\n",
      "Fitness    = 2.5914313593811236\n",
      "\n",
      "Generation = 3\n",
      "Fitness    = 2.5914313593811236\n",
      "\n",
      "Generation = 4\n",
      "Fitness    = 2.5914313593811236\n",
      "\n",
      "Generation = 5\n",
      "Fitness    = 2.5914313593811236\n",
      "\n"
     ]
    }
   ],
   "source": [
    "input_layer  = tensorflow.keras.layers.Input(5)\n",
    "dense_layer1 = tensorflow.keras.layers.Dense(10, activation=\"relu\")(input_layer)\n",
    "output_layer = tensorflow.keras.layers.Dense(1, activation=\"linear\")(dense_layer1)\n",
    "\n",
    "model = tensorflow.keras.Model(inputs=input_layer, outputs=output_layer)\n",
    "\n",
    "weights_vector = pygad.kerasga.model_weights_as_vector(model=model)\n",
    "\n",
    "keras_ga = pygad.kerasga.KerasGA(model=model,\n",
    "                                 num_solutions=10)\n",
    "\n",
    "# Data inputs\n",
    "data_inputs = numpy.array([[1, 1, 1, 1, 1],\n",
    "                           [3, 2, 2, 2, 2],\n",
    "                           [4, 3, 2, 3, 3],\n",
    "                           [4, 4, 3, 3, 4],\n",
    "                           [4, 1, 4, 4, 4]])\n",
    "\n",
    "# Data outputs\n",
    "data_outputs = numpy.array([[1],\n",
    "                            [2],\n",
    "                            [3],\n",
    "                            [4],\n",
    "                            [5]])\n",
    "\n",
    "ga_instance = pygad.GA(num_generations=250, \n",
    "                       num_parents_mating=5, \n",
    "                       fitness_func=fitness_func,\n",
    "                       initial_population=keras_ga.population_weights,\n",
    "                       on_generation=on_generation,\n",
    "                       suppress_warnings=True)\n",
    "ga_instance.run()"
   ]
  },
  {
   "cell_type": "code",
   "execution_count": 5,
   "id": "760e1ee4",
   "metadata": {},
   "outputs": [
    {
     "data": {
      "image/png": "[encoded data removed]",
      "text/plain": [
       "<Figure size 432x288 with 1 Axes>"
      ]
     },
     "metadata": {
      "needs_background": "light"
     },
     "output_type": "display_data"
    }
   ],
   "source": [
    "# After the generations complete, some plots are showed that summarize how the outputs/fitness values evolve over generations.\n",
    "fig = ga_instance.plot_result(title=\"PyGAD & Keras - Iteration vs. Fitness\", linewidth=4)"
   ]
  },
  {
   "cell_type": "code",
   "execution_count": 6,
   "id": "79fc2bd1",
   "metadata": {},
   "outputs": [
    {
     "name": "stdout",
     "output_type": "stream",
     "text": [
      "Parameters of the best solution:\n",
      "[-9.30070261e-01  3.02579306e-01  7.16914688e-01 -9.69636168e-01\n",
      "  2.64882891e-01  1.87376233e-01  2.69490427e-01 -4.64560801e-01\n",
      " -5.42047909e-01 -5.69235587e-01 -5.39770734e-01 -5.67986055e-01\n",
      "  4.87331223e-01 -6.28531848e-02  7.38043498e-01 -7.22694662e-01\n",
      "  4.69310526e-01  5.33111624e-02  7.02283806e-01 -9.35977370e-02\n",
      "  4.87187950e-01 -7.36339948e-01  3.98011810e-01  5.25902242e-01\n",
      " -4.03648549e-01  7.02785362e-01  6.39269431e-01 -1.93594874e-01\n",
      "  1.53506497e+00 -1.28424231e+00 -4.96272950e-01 -2.68555691e-01\n",
      "  4.04733801e-01 -6.43224218e-01 -8.02306389e-01  7.28594108e-01\n",
      "  1.06204528e+00  5.37677404e-02 -1.03139714e-01  5.19704118e-01\n",
      " -1.31244127e+00 -4.92054362e-01 -1.40796388e+00  9.92241328e-02\n",
      " -4.64065050e-01 -9.14590628e-01 -1.87333330e-01  1.06464585e+00\n",
      " -3.10634018e-01 -2.62753566e-01  8.54260354e-01 -9.74180150e-01\n",
      "  1.08796098e-01  4.20276316e-01 -4.32714873e-01 -1.37595008e+00\n",
      "  6.52021739e-01  1.33454367e-01 -4.63385397e-01  5.24983412e-01\n",
      " -1.18363024e+00 -1.36212204e+00 -1.04573582e+00 -8.38956766e-01\n",
      "  1.39370418e+00 -1.48251141e-03  6.41658520e-01  9.36136209e-01\n",
      " -4.29989387e-01  3.62987251e-01 -3.22247055e-01]\n",
      "\n",
      "Length of the solution is: 71\n",
      "\n",
      "Fitness value of the best solution:\n",
      "2.5914313593811236\n",
      "\n"
     ]
    }
   ],
   "source": [
    "# Returning the details of the best solution.\n",
    "solution, solution_fitness, _ = ga_instance.best_solution()\n",
    "print(\"Parameters of the best solution:\\n{solution}\".format(solution=solution), end=\"\\n\\n\")\n",
    "\n",
    "# This is equation to the number of trainable parameters in the Keras model.\n",
    "print(\"Length of the solution is:\", len(solution), end='\\n\\n')\n",
    "\n",
    "print(\"Fitness value of the best solution:\\n{solution_fitness}\".format(solution_fitness=solution_fitness), end='\\n\\n')"
   ]
  },
  {
   "cell_type": "code",
   "execution_count": 7,
   "id": "8dd31168",
   "metadata": {},
   "outputs": [
    {
     "name": "stdout",
     "output_type": "stream",
     "text": [
      "Predictions:\n",
      " [[1.0553586]\n",
      " [1.0255784]\n",
      " [2.621714 ]\n",
      " [3.7962246]\n",
      " [4.682406 ]]\n",
      "\n",
      "Correct Outputs:\n",
      " [[1]\n",
      " [2]\n",
      " [3]\n",
      " [4]\n",
      " [5]]\n",
      "\n"
     ]
    },
    {
     "data": {
      "image/png": "[encoded data removed]",
      "text/plain": [
       "<Figure size 432x288 with 1 Axes>"
      ]
     },
     "metadata": {
      "needs_background": "light"
     },
     "output_type": "display_data"
    },
    {
     "name": "stdout",
     "output_type": "stream",
     "text": [
      "Absolute Error:\n",
      " 0.38588712\n"
     ]
    }
   ],
   "source": [
    "# Fetch the parameters of the best solution.\n",
    "best_solution_weights = pygad.kerasga.model_weights_as_matrix(model=model,\n",
    "                                                              weights_vector=solution)\n",
    "model.set_weights(best_solution_weights)\n",
    "predictions = model.predict(data_inputs)\n",
    "print(\"Predictions:\\n\", predictions, end='\\n\\n')\n",
    "\n",
    "print(\"Correct Outputs:\\n\", data_outputs, end='\\n\\n')\n",
    "\n",
    "# Correct Outputs vs Predictions plot.\n",
    "plt.plot(predictions,'--',label=\"Predictions\")\n",
    "plt.plot(data_outputs,label=\"Correct Outputs\")\n",
    "plt.title('Correct Outputs vs Predictions')\n",
    "plt.legend()\n",
    "plt.show()\n",
    "\n",
    "mae = tensorflow.keras.losses.MeanAbsoluteError()\n",
    "abs_error = mae(data_outputs, predictions).numpy()\n",
    "print(\"Absolute Error:\\n\", abs_error)"
   ]
  },
  {
   "cell_type": "markdown",
   "id": "6b1ac476",
   "metadata": {},
   "source": [
    "# Create Model File"
   ]
  },
  {
   "cell_type": "code",
   "execution_count": 8,
   "id": "0fbaf9f0",
   "metadata": {},
   "outputs": [],
   "source": [
    "def predict_mpg(config, model):\n",
    "    \n",
    "    if type(config) == dict:\n",
    "        df = pd.DataFrame(config)\n",
    "    else:\n",
    "        df = config\n",
    "    \n",
    "#     print(prepared_df)\n",
    "    y_pred = model.predict(df)\n",
    "    return y_pred "
   ]
  },
  {
   "cell_type": "code",
   "execution_count": 9,
   "id": "24a7b4f8",
   "metadata": {},
   "outputs": [
    {
     "data": {
      "text/plain": [
       "'Mt2.GP'"
      ]
     },
     "execution_count": 9,
     "metadata": {},
     "output_type": "execute_result"
    }
   ],
   "source": [
    "config = {\n",
    "    'NetworkBandwidth': [1],\n",
    "    'UserType': [1],\n",
    "    'ProcessorSpeed': [1],\n",
    "    'RAM': [1],\n",
    "    'vCPUs': [1]\n",
    "}\n",
    "\n",
    "predictValue = predict_mpg(config, model)\n",
    "\n",
    "OutPutList=[\"St1.Nano\",\"Mt2.GP\",\"Lt3.Large\",\"Lt4.Xlarge\"]\n",
    "\n",
    "OutPutList[int(predictValue)]"
   ]
  },
  {
   "cell_type": "code",
   "execution_count": 10,
   "id": "853afe5b",
   "metadata": {},
   "outputs": [
    {
     "name": "stdout",
     "output_type": "stream",
     "text": [
      "Saved model to disk\n"
     ]
    }
   ],
   "source": [
    "# serialize model to JSON\n",
    "model_json = model.to_json()\n",
    "with open(\"model.json\", \"w\") as json_file:\n",
    "    json_file.write(model_json)\n",
    "# serialize weights to HDF5\n",
    "model.save_weights(\"model.h5\")\n",
    "print(\"Saved model to disk\")"
   ]
  },
  {
   "cell_type": "code",
   "execution_count": 11,
   "id": "ab105f29",
   "metadata": {},
   "outputs": [
    {
     "name": "stdout",
     "output_type": "stream",
     "text": [
      "Loaded model from disk\n"
     ]
    }
   ],
   "source": [
    "# load json and create model\n",
    "json_file = open('model.json', 'r')\n",
    "loaded_model_json = json_file.read()\n",
    "json_file.close()\n",
    "loaded_model = tensorflow.keras.models.model_from_json(loaded_model_json)\n",
    "# load weights into new model\n",
    "loaded_model.load_weights(\"model.h5\")\n",
    "print(\"Loaded model from disk\")\n",
    " "
   ]
  },
  {
   "cell_type": "code",
   "execution_count": 12,
   "id": "cfa83573",
   "metadata": {},
   "outputs": [
    {
     "data": {
      "text/plain": [
       "'Mt2.GP'"
      ]
     },
     "execution_count": 12,
     "metadata": {},
     "output_type": "execute_result"
    }
   ],
   "source": [
    "predictValue = predict_mpg(config, loaded_model)\n",
    "\n",
    "OutPutList=[\"St1.Nano\",\"Mt2.GP\",\"Lt3.Large\",\"Lt4.Xlarge\"]\n",
    "\n",
    "OutPutList[int(predictValue)]"
   ]
  }
 ],
 "metadata": {
  "kernelspec": {
   "display_name": "Python 3",
   "language": "python",
   "name": "python3"
  },
  "language_info": {
   "codemirror_mode": {
    "name": "ipython",
    "version": 3
   },
   "file_extension": ".py",
   "mimetype": "text/x-python",
   "name": "python",
   "nbconvert_exporter": "python",
   "pygments_lexer": "ipython3",
   "version": "3.6.13"
  }
 },
 "nbformat": 4,
 "nbformat_minor": 5
}
