{
 "cells": [
  {
   "cell_type": "markdown",
   "metadata": {
    "gradient": {
     "editing": false
    },
    "id": "Cm3Z6Fzi8PtD"
   },
   "source": [
    "# **Train Keras Models Using the Genetic Algorithm with PyGAD**\n",
    "![](https://images.saasworthy.com/gradientbypaperspace_4392_logo_1570797115_mkedo.png)"
   ]
  },
  {
   "cell_type": "markdown",
   "metadata": {
    "gradient": {
     "editing": false
    },
    "id": "WAZ54DB-dFTO"
   },
   "source": [
    "## Why use the **Genetic Algorithm** rather than **Gradient-Based Algorithms**?\n",
    "\n",
    "1. The genetic algorithm can work with **non-diffrentiable** and **non-convex** functions. This is compared to the gradient descent-based algorithms that usually work with diffrentiable convex functions. \n",
    "2. The genetic algorithm does not suffer from **vanishing** or **exploding gradients**. The reason is that the genetic algorithm updates the parameters of all layers at once, compared to updating layer by layer in the gradient-based algorithms."
   ]
  },
  {
   "cell_type": "markdown",
   "metadata": {
    "gradient": {
     "editing": false
    },
    "id": "z9tp5vsSE6w6"
   },
   "source": [
    "## Install PyGAD\n",
    "\n",
    "PyGAD is an open-source Python library for building the genetic algorithm and training machine learning algorithms. It supports Keras and PyTorch models.\n",
    "\n",
    "GitHub: https://github.com/ahmedfgad/GeneticAlgorithmPython\n",
    "\n",
    "Documentation: https://pygad.readthedocs.io"
   ]
  },
  {
   "cell_type": "markdown",
   "metadata": {
    "gradient": {
     "editing": false
    },
    "id": "cRsordFfFBNI"
   },
   "source": [
    "### Verify PyGAD Installation"
   ]
  },
  {
   "cell_type": "code",
   "execution_count": 1,
   "metadata": {
    "colab": {
     "base_uri": "https://localhost:8080/"
    },
    "gradient": {
     "editing": false
    },
    "id": "5EY8fa_x8jOP",
    "outputId": "723ce04a-2482-4603-8f2a-aa137156bc74"
   },
   "outputs": [
    {
     "name": "stdout",
     "output_type": "stream",
     "text": [
      "2.16.0\n"
     ]
    }
   ],
   "source": [
    "import pygad\n",
    "\n",
    "print(pygad.__version__)"
   ]
  },
  {
   "cell_type": "markdown",
   "metadata": {
    "gradient": {
     "editing": false
    },
    "id": "5XShNCExJBUQ"
   },
   "source": [
    "## Install TensorFlow\n",
    "\n",
    "I am using a free Gradient instance that offers a free GPU. Thus, TensorFlow-GPU is installed."
   ]
  },
  {
   "cell_type": "markdown",
   "metadata": {
    "gradient": {
     "editing": false
    },
    "id": "wcUTCM1hJbFz"
   },
   "source": [
    "## Import TensorFlow"
   ]
  },
  {
   "cell_type": "code",
   "execution_count": 2,
   "metadata": {
    "colab": {
     "base_uri": "https://localhost:8080/"
    },
    "gradient": {
     "editing": false
    },
    "id": "lbnKqu-cJdXo",
    "outputId": "cc71f66e-e45a-4f77-b979-bffd2191c9ec"
   },
   "outputs": [
    {
     "name": "stdout",
     "output_type": "stream",
     "text": [
      "1.14.0\n"
     ]
    }
   ],
   "source": [
    "import tensorflow\n",
    "\n",
    "print(tensorflow.__version__)"
   ]
  },
  {
   "cell_type": "code",
   "execution_count": 3,
   "metadata": {
    "gradient": {
     "editing": false
    }
   },
   "outputs": [],
   "source": [
    "import numpy"
   ]
  },
  {
   "cell_type": "markdown",
   "metadata": {
    "gradient": {
     "editing": false
    },
    "id": "6bsz3lqoFPxg"
   },
   "source": [
    "## Optimization Example\n",
    "\n",
    "Y = w1**X1** + w2**X2** + w3**X3** + w4**X4**\n",
    "\n",
    "For:\n",
    "1. Input vector `X=[4, -1, 0.3, 7.2]`\n",
    "2. Output `Y=9`\n",
    "\n",
    "What are the values for the weights `w1` to `w4`?\n",
    "\n",
    "The genetic algorithm can be used to find the values of these weights."
   ]
  },
  {
   "cell_type": "markdown",
   "metadata": {
    "gradient": {
     "editing": false
    },
    "id": "A3qChZsWBwb7"
   },
   "source": [
    "## Optimization using PyGAD\n",
    "1. Define the fitness function.\n",
    "2. Create an instance of the `pygad.GA` class.\n",
    "3. Call the `run()` method.\n",
    "4. Plot the results.\n",
    "4. Print some information about the best solution.\n",
    "\n",
    "https://pygad.readthedocs.io"
   ]
  },
  {
   "cell_type": "markdown",
   "metadata": {
    "id": "oBC1vGcdDThb"
   },
   "source": [
    "### 1. Fitness Function\n",
    "\n",
    "The fitness function in PyGAD is a normal Python function that accepts 2 parameters:\n",
    "1. Solution evolved using the genetic algorithm.\n",
    "2. The index of the solution within the population.\n",
    "\n",
    "The fitness function must be a **maximization function**.\n",
    "\n",
    "Y = w1**X1** + w2**X2** + w3**X3** + w4**X4**"
   ]
  },
  {
   "cell_type": "code",
   "execution_count": 4,
   "metadata": {
    "gradient": {},
    "id": "-IcAIQPiDV-x"
   },
   "outputs": [],
   "source": [
    "X = [4, -1, 0.3, 7.2]\n",
    "function_inputs = X\n",
    "Y = 9\n",
    "\n",
    "# Y = w1X1 + w2X2 + w3X3 + w4X4\n",
    "\n",
    "def fitness_func(solution, solution_idx):\n",
    "\n",
    "    # SOP between each w and X.\n",
    "    output = numpy.sum(solution*X)\n",
    "\n",
    "    error = numpy.abs(output - Y)\n",
    "\n",
    "    # The error may be 0.\n",
    "    fitness = 1.0 / ( error + 0.000001)\n",
    "\n",
    "    return fitness"
   ]
  },
  {
   "cell_type": "markdown",
   "metadata": {
    "id": "JtPFvQADFRgR"
   },
   "source": [
    "### 2. Instantiating the `pygad.GA` class.\n",
    "\n",
    "Check information about all the parameters in the `pygad.GA` class constructor: https://pygad.readthedocs.io/en/latest/README_pygad_ReadTheDocs.html#pygad-ga-class "
   ]
  },
  {
   "cell_type": "code",
   "execution_count": 5,
   "metadata": {
    "gradient": {},
    "id": "ShhPa9R-FVl4"
   },
   "outputs": [],
   "source": [
    "ga_instance = pygad.GA(num_generations=100,\n",
    "                       num_parents_mating=10,\n",
    "                       fitness_func=fitness_func,\n",
    "                       sol_per_pop=20,\n",
    "                       num_genes=len(function_inputs), # 4 in this example\n",
    "                       suppress_warnings=True)"
   ]
  },
  {
   "cell_type": "markdown",
   "metadata": {
    "id": "quQSqbleGWiR"
   },
   "source": [
    "### 3. Call the `run()` Method\n",
    "\n",
    "The `pygad.GA` class has a method called `run()` which starts the optimization."
   ]
  },
  {
   "cell_type": "code",
   "execution_count": 6,
   "metadata": {
    "gradient": {},
    "id": "zfQFTvTQGesI"
   },
   "outputs": [],
   "source": [
    "ga_instance.run()"
   ]
  },
  {
   "cell_type": "markdown",
   "metadata": {
    "id": "t6oMEEJWGnjp"
   },
   "source": [
    "### 4. Plot the Results"
   ]
  },
  {
   "cell_type": "code",
   "execution_count": 7,
   "metadata": {
    "colab": {
     "base_uri": "https://localhost:8080/",
     "height": 295
    },
    "gradient": {},
    "id": "zag13SNuGr0B",
    "outputId": "7c500319-426c-4f65-a8df-5d225357e185"
   },
   "outputs": [
    {
     "data": {
      "image/png": "[encoded data removed]",
      "text/plain": [
       "<Figure size 432x288 with 1 Axes>"
      ]
     },
     "metadata": {
      "needs_background": "light"
     },
     "output_type": "display_data"
    }
   ],
   "source": [
    "fig = ga_instance.plot_result()"
   ]
  },
  {
   "cell_type": "markdown",
   "metadata": {
    "id": "hcpbhvAqCVGj"
   },
   "source": [
    "### 5. Information about the Best Solution\n",
    "\n",
    "1. The values of the 4 weights.\n",
    "2. The fitness value of the best solution.\n",
    "3. The estimated output using the best solution.\n",
    "4. The number of generations used to reach the best solution?\n",
    "\n",
    "There is a method called `best_solution()` that returns the best solution and its fitness value."
   ]
  },
  {
   "cell_type": "code",
   "execution_count": 8,
   "metadata": {
    "colab": {
     "base_uri": "https://localhost:8080/"
    },
    "gradient": {},
    "id": "VbGV9JO4CZjJ",
    "outputId": "5b717c60-8ba5-4186-8d86-8e06f7e27618"
   },
   "outputs": [
    {
     "name": "stdout",
     "output_type": "stream",
     "text": [
      "Parameters of the best solution:\n",
      "[-1.31474149  4.05817321  1.68325661  2.47293959]\n",
      "\n",
      "Fitness value of the best solution:\n",
      "142.89491509639964\n",
      "\n",
      "Predicted output based on the best solution:\n",
      "8.99300285035048\n",
      "\n",
      "Best fitness value reached after 79 generations.\n"
     ]
    }
   ],
   "source": [
    "solution, solution_fitness, _ = ga_instance.best_solution()\n",
    "print(\"Parameters of the best solution:\\n{solution}\".format(solution=solution), end=\"\\n\\n\")\n",
    "print(\"Fitness value of the best solution:\\n{solution_fitness}\".format(solution_fitness=solution_fitness), end=\"\\n\\n\")\n",
    "\n",
    "prediction = numpy.sum(numpy.array(function_inputs)*solution)\n",
    "print(\"Predicted output based on the best solution:\\n{prediction}\".format(prediction=prediction), end=\"\\n\\n\")\n",
    "\n",
    "if ga_instance.best_solution_generation != -1:\n",
    "    print(\"Best fitness value reached after {best_solution_generation} generations.\".format(best_solution_generation=ga_instance.best_solution_generation))"
   ]
  },
  {
   "cell_type": "markdown",
   "metadata": {
    "id": "EM-2CmvVHK4R"
   },
   "source": [
    "### Complete Code"
   ]
  },
  {
   "cell_type": "code",
   "execution_count": 9,
   "metadata": {
    "colab": {
     "base_uri": "https://localhost:8080/",
     "height": 465
    },
    "gradient": {},
    "id": "nNwW7HAT8l4i",
    "outputId": "1f27dd35-9031-4a6b-8557-9daf84d3d704"
   },
   "outputs": [
    {
     "data": {
      "image/png": "[encoded data removed]",
      "text/plain": [
       "<Figure size 432x288 with 1 Axes>"
      ]
     },
     "metadata": {
      "needs_background": "light"
     },
     "output_type": "display_data"
    },
    {
     "name": "stdout",
     "output_type": "stream",
     "text": [
      "Parameters of the best solution:\n",
      "[ 0.74282969 -0.53855751  3.11918142  0.63292547]\n",
      "\n",
      "Fitness value of the best solution:\n",
      "371.04693145869834\n",
      "\n",
      "Predicted output based on the best solution:\n",
      "9.002694076862834\n",
      "\n",
      "Best fitness value reached after 13 generations.\n"
     ]
    }
   ],
   "source": [
    "import pygad\n",
    "import numpy\n",
    "\n",
    "X = [4, -1, 0.3, 7.2]\n",
    "Y = 9\n",
    "\n",
    "# Y = w1X1 + w2X2 + w3X3 + w4X4\n",
    "\n",
    "def fitness_func(solution, solution_idx):\n",
    "\n",
    "    # SOP between each w and X.\n",
    "    output = numpy.sum(solution*X)\n",
    "\n",
    "    error = numpy.abs(output - Y)\n",
    "\n",
    "    # The error may be 0.\n",
    "    fitness = 1.0 / ( error + 0.000001)\n",
    "\n",
    "    return fitness\n",
    "\n",
    "ga_instance = pygad.GA(num_generations=100,\n",
    "                       num_parents_mating=10,\n",
    "                       fitness_func=fitness_func,\n",
    "                       sol_per_pop=20,\n",
    "                       num_genes=len(function_inputs), # 4 in this example\n",
    "                       suppress_warnings=True)\n",
    "\n",
    "ga_instance.run()\n",
    "\n",
    "fig = ga_instance.plot_result()\n",
    "\n",
    "solution, solution_fitness, _ = ga_instance.best_solution()\n",
    "print(\"Parameters of the best solution:\\n{solution}\".format(solution=solution), end=\"\\n\\n\")\n",
    "print(\"Fitness value of the best solution:\\n{solution_fitness}\".format(solution_fitness=solution_fitness), end=\"\\n\\n\")\n",
    "\n",
    "prediction = numpy.sum(numpy.array(function_inputs)*solution)\n",
    "print(\"Predicted output based on the best solution:\\n{prediction}\".format(prediction=prediction), end=\"\\n\\n\")\n",
    "\n",
    "if ga_instance.best_solution_generation != -1:\n",
    "    print(\"Best fitness value reached after {best_solution_generation} generations.\".format(best_solution_generation=ga_instance.best_solution_generation))"
   ]
  },
  {
   "cell_type": "markdown",
   "metadata": {
    "id": "xP1_KTjHH6DK"
   },
   "source": [
    "## Keras Models Optimization with PyGAD\n",
    "1. Prepare the training data\n",
    "2. Build the Keras model\n",
    "3. Create an instance of the `pygad.kerasga.KerasGA` Class\n",
    "4. Build the fitness function\n",
    "5. Create an instance of the `pygad.GA` class\n",
    "6. Call the `run()` method\n",
    "7. Plot results\n",
    "8. Information about the best solution\n",
    "9. Use the trained model to make predictions\n",
    "10. Evaluate the model by calculating the error"
   ]
  },
  {
   "cell_type": "markdown",
   "metadata": {
    "id": "k4YqH5NHIQTq"
   },
   "source": [
    "### 1. Training Data\n",
    "\n",
    "This is a regression example.\n",
    "\n",
    "Random data of 4 samples are used. \n",
    "\n",
    "Each sample has 3 inputs and 1 output."
   ]
  },
  {
   "cell_type": "code",
   "execution_count": 10,
   "metadata": {
    "gradient": {},
    "id": "6WE4hMAjITG1"
   },
   "outputs": [],
   "source": [
    "# Data inputs\n",
    "data_inputs = numpy.array([[0.02, 0.1, 0.15],\n",
    "                           [0.7, 0.6, 0.8],\n",
    "                           [1.5, 1.2, 1.7],\n",
    "                           [3.2, 2.9, 3.1]])\n",
    "\n",
    "# Data outputs\n",
    "data_outputs = numpy.array([[0.1],\n",
    "                            [0.6],\n",
    "                            [1.3],\n",
    "                            [2.5]])"
   ]
  },
  {
   "cell_type": "markdown",
   "metadata": {
    "id": "YDh-MmuVH-6g"
   },
   "source": [
    "### 2. Build the Keras Model\n",
    "The last layer uses a **linear** activation function because this is a regression example."
   ]
  },
  {
   "cell_type": "code",
   "execution_count": 11,
   "metadata": {
    "gradient": {},
    "id": "8TLHv3Qv8qNv"
   },
   "outputs": [
    {
     "name": "stderr",
     "output_type": "stream",
     "text": [
      "WARNING: Logging before flag parsing goes to stderr.\n",
      "W0913 21:31:21.146737 16636 deprecation.py:506] From c:\\users\\hp\\anaconda3\\envs\\tensorflow\\lib\\site-packages\\tensorflow\\python\\ops\\init_ops.py:1251: calling VarianceScaling.__init__ (from tensorflow.python.ops.init_ops) with dtype is deprecated and will be removed in a future version.\n",
      "Instructions for updating:\n",
      "Call initializer instance with the dtype argument instead of passing it to the constructor\n"
     ]
    }
   ],
   "source": [
    "input_layer  = tensorflow.keras.layers.Input(3)\n",
    "dense_layer1 = tensorflow.keras.layers.Dense(5, activation=\"relu\")(input_layer)\n",
    "output_layer = tensorflow.keras.layers.Dense(1, activation=\"linear\")(dense_layer1)\n",
    "\n",
    "model = tensorflow.keras.Model(inputs=input_layer, outputs=output_layer)"
   ]
  },
  {
   "cell_type": "markdown",
   "metadata": {
    "id": "CUg1KuhbJmLH"
   },
   "source": [
    "#### Model Summary\n",
    "The model has 26 trainable parameters."
   ]
  },
  {
   "cell_type": "code",
   "execution_count": 12,
   "metadata": {
    "colab": {
     "base_uri": "https://localhost:8080/"
    },
    "gradient": {},
    "id": "-FkHII6d-cRy",
    "outputId": "5427b030-ce03-411f-cb59-21783e8c4bb2"
   },
   "outputs": [
    {
     "name": "stdout",
     "output_type": "stream",
     "text": [
      "Model: \"model\"\n",
      "_________________________________________________________________\n",
      "Layer (type)                 Output Shape              Param #   \n",
      "=================================================================\n",
      "input_1 (InputLayer)         [(None, 3)]               0         \n",
      "_________________________________________________________________\n",
      "dense (Dense)                (None, 5)                 20        \n",
      "_________________________________________________________________\n",
      "dense_1 (Dense)              (None, 1)                 6         \n",
      "=================================================================\n",
      "Total params: 26\n",
      "Trainable params: 26\n",
      "Non-trainable params: 0\n",
      "_________________________________________________________________\n"
     ]
    }
   ],
   "source": [
    "model.summary()"
   ]
  },
  {
   "cell_type": "markdown",
   "metadata": {
    "id": "7LR2xwuYJyQ4"
   },
   "source": [
    "### 3. Instantiate the `pygad.kerasga.KerasGA` Class\n",
    "PyGAD has a module called `kerasga` which helps to retrieve the Keras model parameters.\n",
    "https://pygad.readthedocs.io/en/latest/README_pygad_kerasga_ReadTheDocs.html\n",
    "\n",
    "This module has a class named `KerasGA` where its constructor accepts 2 parameters:\n",
    "1. Keras model.\n",
    "2. Number of solutions in the population."
   ]
  },
  {
   "cell_type": "code",
   "execution_count": 13,
   "metadata": {
    "gradient": {},
    "id": "Z2m5-JuU9If8"
   },
   "outputs": [],
   "source": [
    "import pygad.kerasga\n",
    "\n",
    "keras_ga = pygad.kerasga.KerasGA(model=model,\n",
    "                                 num_solutions=10)"
   ]
  },
  {
   "cell_type": "markdown",
   "metadata": {
    "id": "IL07kN4oKw6p"
   },
   "source": [
    "### 4. Build the Fitness Function\n",
    "\n",
    "The fitness function measures the error of the Keras model.\n",
    "\n",
    "Remember that the fitness function must be a maximization function.\n",
    "\n",
    "The steps to calculate the fitness value are:\n",
    "1. `model_weights_as_matrix()`: Use the helper function `model_weights_as_matrix()` to convert the solution into the form expected by the Keras model.\n",
    "2. `set_weights()`: Set the new parameters as the model weights using the `set_weights()` Keras method.\n",
    "3. `predict()`: Return the model predictions over the training data.\n",
    "4. Calculate the error between the model predictions and the correct outputs.\n",
    "5. Calculate the fitness value from the error."
   ]
  },
  {
   "cell_type": "code",
   "execution_count": 14,
   "metadata": {
    "gradient": {},
    "id": "WTd72T_A9dXe"
   },
   "outputs": [],
   "source": [
    "def fitness_func(solution, sol_idx):\n",
    "    global data_inputs, data_outputs, keras_ga, model\n",
    "\n",
    "    model_weights_matrix = pygad.kerasga.model_weights_as_matrix(model=model,\n",
    "                                                                 weights_vector=solution)\n",
    "\n",
    "    model.set_weights(weights=model_weights_matrix)\n",
    "\n",
    "    predictions = model.predict(data_inputs)\n",
    "\n",
    "    mae = tensorflow.keras.losses.MeanAbsoluteError()\n",
    "    error = mae(data_outputs, predictions).numpy()\n",
    "\n",
    "    solution_fitness = 1.0 / (error + 0.00000001)\n",
    "\n",
    "    return solution_fitness"
   ]
  },
  {
   "cell_type": "code",
   "execution_count": 15,
   "metadata": {
    "gradient": {},
    "id": "7QESAglS9hQ5"
   },
   "outputs": [],
   "source": [
    "def on_generation(ga_instance):\n",
    "    print(\"Generation = {generation}\".format(generation=ga_instance.generations_completed))\n",
    "    print(\"Fitness    = {fitness}\".format(fitness=ga_instance.best_solution(ga_instance.last_generation_fitness)[1]), end='\\n\\n')"
   ]
  },
  {
   "cell_type": "markdown",
   "metadata": {
    "id": "EQxI6Ex5L72P"
   },
   "source": [
    "### 5. Instantiate the `pygad.GA` Class\n",
    "Two new parameters are used:\n",
    "1. `initial_population`: The initial population.\n",
    "2. `on_generation`: A callback function that is called after each generation."
   ]
  },
  {
   "cell_type": "code",
   "execution_count": 16,
   "metadata": {
    "gradient": {},
    "id": "HWlPU4949wIM"
   },
   "outputs": [],
   "source": [
    "ga_instance = pygad.GA(num_generations=250, \n",
    "                       num_parents_mating=5, \n",
    "                       fitness_func=fitness_func,\n",
    "                       initial_population=keras_ga.population_weights,\n",
    "                       on_generation=on_generation,\n",
    "                       suppress_warnings=True)"
   ]
  },
  {
   "cell_type": "markdown",
   "metadata": {
    "id": "vMCXZheLMgVP"
   },
   "source": [
    "### 6. Run the Genetic Algorithm\n",
    "Call the `run()` method."
   ]
  },
  {
   "cell_type": "code",
   "execution_count": 17,
   "metadata": {
    "colab": {
     "base_uri": "https://localhost:8080/"
    },
    "gradient": {},
    "id": "t7lQlL9O92Io",
    "outputId": "1d25306e-6ca7-4daa-8f53-5c8454c63236"
   },
   "outputs": [
    {
     "ename": "AttributeError",
     "evalue": "'Tensor' object has no attribute 'numpy'",
     "output_type": "error",
     "traceback": [
      "\u001b[1;31m---------------------------------------------------------------------------\u001b[0m",
      "\u001b[1;31mAttributeError\u001b[0m                            Traceback (most recent call last)",
      "\u001b[1;32m<ipython-input-17-e87ae048484f>\u001b[0m in \u001b[0;36m<module>\u001b[1;34m\u001b[0m\n\u001b[1;32m----> 1\u001b[1;33m \u001b[0mga_instance\u001b[0m\u001b[1;33m.\u001b[0m\u001b[0mrun\u001b[0m\u001b[1;33m(\u001b[0m\u001b[1;33m)\u001b[0m\u001b[1;33m\u001b[0m\u001b[1;33m\u001b[0m\u001b[0m\n\u001b[0m",
      "\u001b[1;32mc:\\users\\hp\\anaconda3\\envs\\tensorflow\\lib\\site-packages\\pygad\\pygad.py\u001b[0m in \u001b[0;36mrun\u001b[1;34m(self)\u001b[0m\n\u001b[0;32m   1168\u001b[0m \u001b[1;33m\u001b[0m\u001b[0m\n\u001b[0;32m   1169\u001b[0m         \u001b[1;31m# Measuring the fitness of each chromosome in the population. Save the fitness in the last_generation_fitness attribute.\u001b[0m\u001b[1;33m\u001b[0m\u001b[1;33m\u001b[0m\u001b[1;33m\u001b[0m\u001b[0m\n\u001b[1;32m-> 1170\u001b[1;33m         \u001b[0mself\u001b[0m\u001b[1;33m.\u001b[0m\u001b[0mlast_generation_fitness\u001b[0m \u001b[1;33m=\u001b[0m \u001b[0mself\u001b[0m\u001b[1;33m.\u001b[0m\u001b[0mcal_pop_fitness\u001b[0m\u001b[1;33m(\u001b[0m\u001b[1;33m)\u001b[0m\u001b[1;33m\u001b[0m\u001b[1;33m\u001b[0m\u001b[0m\n\u001b[0m\u001b[0;32m   1171\u001b[0m \u001b[1;33m\u001b[0m\u001b[0m\n\u001b[0;32m   1172\u001b[0m         \u001b[0mbest_solution\u001b[0m\u001b[1;33m,\u001b[0m \u001b[0mbest_solution_fitness\u001b[0m\u001b[1;33m,\u001b[0m \u001b[0mbest_match_idx\u001b[0m \u001b[1;33m=\u001b[0m \u001b[0mself\u001b[0m\u001b[1;33m.\u001b[0m\u001b[0mbest_solution\u001b[0m\u001b[1;33m(\u001b[0m\u001b[0mpop_fitness\u001b[0m\u001b[1;33m=\u001b[0m\u001b[0mself\u001b[0m\u001b[1;33m.\u001b[0m\u001b[0mlast_generation_fitness\u001b[0m\u001b[1;33m)\u001b[0m\u001b[1;33m\u001b[0m\u001b[1;33m\u001b[0m\u001b[0m\n",
      "\u001b[1;32mc:\\users\\hp\\anaconda3\\envs\\tensorflow\\lib\\site-packages\\pygad\\pygad.py\u001b[0m in \u001b[0;36mcal_pop_fitness\u001b[1;34m(self)\u001b[0m\n\u001b[0;32m   1146\u001b[0m         \u001b[1;31m# Calculating the fitness value of each solution in the current population.\u001b[0m\u001b[1;33m\u001b[0m\u001b[1;33m\u001b[0m\u001b[1;33m\u001b[0m\u001b[0m\n\u001b[0;32m   1147\u001b[0m         \u001b[1;32mfor\u001b[0m \u001b[0msol_idx\u001b[0m\u001b[1;33m,\u001b[0m \u001b[0msol\u001b[0m \u001b[1;32min\u001b[0m \u001b[0menumerate\u001b[0m\u001b[1;33m(\u001b[0m\u001b[0mself\u001b[0m\u001b[1;33m.\u001b[0m\u001b[0mpopulation\u001b[0m\u001b[1;33m)\u001b[0m\u001b[1;33m:\u001b[0m\u001b[1;33m\u001b[0m\u001b[1;33m\u001b[0m\u001b[0m\n\u001b[1;32m-> 1148\u001b[1;33m             \u001b[0mfitness\u001b[0m \u001b[1;33m=\u001b[0m \u001b[0mself\u001b[0m\u001b[1;33m.\u001b[0m\u001b[0mfitness_func\u001b[0m\u001b[1;33m(\u001b[0m\u001b[0msol\u001b[0m\u001b[1;33m,\u001b[0m \u001b[0msol_idx\u001b[0m\u001b[1;33m)\u001b[0m\u001b[1;33m\u001b[0m\u001b[1;33m\u001b[0m\u001b[0m\n\u001b[0m\u001b[0;32m   1149\u001b[0m             \u001b[0mpop_fitness\u001b[0m\u001b[1;33m.\u001b[0m\u001b[0mappend\u001b[0m\u001b[1;33m(\u001b[0m\u001b[0mfitness\u001b[0m\u001b[1;33m)\u001b[0m\u001b[1;33m\u001b[0m\u001b[1;33m\u001b[0m\u001b[0m\n\u001b[0;32m   1150\u001b[0m \u001b[1;33m\u001b[0m\u001b[0m\n",
      "\u001b[1;32m<ipython-input-14-77edeb323357>\u001b[0m in \u001b[0;36mfitness_func\u001b[1;34m(solution, sol_idx)\u001b[0m\n\u001b[0;32m     10\u001b[0m \u001b[1;33m\u001b[0m\u001b[0m\n\u001b[0;32m     11\u001b[0m     \u001b[0mmae\u001b[0m \u001b[1;33m=\u001b[0m \u001b[0mtensorflow\u001b[0m\u001b[1;33m.\u001b[0m\u001b[0mkeras\u001b[0m\u001b[1;33m.\u001b[0m\u001b[0mlosses\u001b[0m\u001b[1;33m.\u001b[0m\u001b[0mMeanAbsoluteError\u001b[0m\u001b[1;33m(\u001b[0m\u001b[1;33m)\u001b[0m\u001b[1;33m\u001b[0m\u001b[1;33m\u001b[0m\u001b[0m\n\u001b[1;32m---> 12\u001b[1;33m     \u001b[0merror\u001b[0m \u001b[1;33m=\u001b[0m \u001b[0mmae\u001b[0m\u001b[1;33m(\u001b[0m\u001b[0mdata_outputs\u001b[0m\u001b[1;33m,\u001b[0m \u001b[0mpredictions\u001b[0m\u001b[1;33m)\u001b[0m\u001b[1;33m.\u001b[0m\u001b[0mnumpy\u001b[0m\u001b[1;33m(\u001b[0m\u001b[1;33m)\u001b[0m\u001b[1;33m\u001b[0m\u001b[1;33m\u001b[0m\u001b[0m\n\u001b[0m\u001b[0;32m     13\u001b[0m \u001b[1;33m\u001b[0m\u001b[0m\n\u001b[0;32m     14\u001b[0m     \u001b[0msolution_fitness\u001b[0m \u001b[1;33m=\u001b[0m \u001b[1;36m1.0\u001b[0m \u001b[1;33m/\u001b[0m \u001b[1;33m(\u001b[0m\u001b[0merror\u001b[0m \u001b[1;33m+\u001b[0m \u001b[1;36m0.00000001\u001b[0m\u001b[1;33m)\u001b[0m\u001b[1;33m\u001b[0m\u001b[1;33m\u001b[0m\u001b[0m\n",
      "\u001b[1;31mAttributeError\u001b[0m: 'Tensor' object has no attribute 'numpy'"
     ]
    }
   ],
   "source": [
    "ga_instance.run()"
   ]
  },
  {
   "cell_type": "markdown",
   "metadata": {
    "id": "vqytAlSBXjgQ"
   },
   "source": [
    "### 7. Plot Results"
   ]
  },
  {
   "cell_type": "code",
   "execution_count": null,
   "metadata": {
    "colab": {
     "base_uri": "https://localhost:8080/",
     "height": 295
    },
    "gradient": {},
    "id": "8Uw6d0R0-GhU",
    "outputId": "f88c5977-cced-4b9b-dfaf-c8eaf74c7b22"
   },
   "outputs": [],
   "source": [
    "fig = ga_instance.plot_result(title=\"PyGAD & Keras - Iteration vs. Fitness\", linewidth=4)"
   ]
  },
  {
   "cell_type": "markdown",
   "metadata": {
    "id": "Y6kY05FrawD3"
   },
   "source": [
    "### 8. Information about the Best Solution"
   ]
  },
  {
   "cell_type": "code",
   "execution_count": null,
   "metadata": {
    "colab": {
     "base_uri": "https://localhost:8080/"
    },
    "gradient": {},
    "id": "uk-Qi_as-M7L",
    "outputId": "0bb052d5-a59b-492f-a05d-a10e5e4f48a1"
   },
   "outputs": [],
   "source": [
    "solution, solution_fitness, _ = ga_instance.best_solution()\n",
    "print(\"Parameters of the best solution:\\n{solution}\".format(solution=solution), end=\"\\n\\n\")\n",
    "\n",
    "# This is equation to the number of trainable parameters in the Keras model.\n",
    "print(\"Length of the solution is:\", len(solution), end='\\n\\n')\n",
    "\n",
    "print(\"Fitness value of the best solution:\\n{solution_fitness}\".format(solution_fitness=solution_fitness), end='\\n\\n')"
   ]
  },
  {
   "cell_type": "markdown",
   "metadata": {
    "id": "93tNCYMpNauA"
   },
   "source": [
    "### 9. Make Prediction\n",
    "Use the trained model to make predictions.\n",
    "\n",
    "The steps are covered in the fitness function.\n",
    "1. Use the `model_weights_as_matrix()` to formulate the Keras model parameters.\n",
    "2. Set the parameters as the current model weights by calling the `set_weights()` method.\n",
    "3. Make prediction using the `predict()` method."
   ]
  },
  {
   "cell_type": "code",
   "execution_count": null,
   "metadata": {
    "colab": {
     "base_uri": "https://localhost:8080/"
    },
    "gradient": {},
    "id": "c1m3ZjBA-OaC",
    "outputId": "829a27ff-bbce-454d-c287-fa6246feaa60"
   },
   "outputs": [],
   "source": [
    "best_solution_weights = pygad.kerasga.model_weights_as_matrix(model=model,\n",
    "                                                              weights_vector=solution)\n",
    "model.set_weights(best_solution_weights)\n",
    "predictions = model.predict(data_inputs)\n",
    "print(\"Predictions:\\n\", predictions, end='\\n\\n')\n",
    "\n",
    "print(\"Correct Outputs:\\n\", data_outputs, end='\\n\\n')"
   ]
  },
  {
   "cell_type": "markdown",
   "metadata": {
    "id": "R3HsMZcbPENZ"
   },
   "source": [
    "### 10. Measure the Loss\n",
    "The mean abolute error (MAE) is used."
   ]
  },
  {
   "cell_type": "code",
   "execution_count": null,
   "metadata": {
    "colab": {
     "base_uri": "https://localhost:8080/"
    },
    "gradient": {},
    "id": "Q2wuatBX-Q8y",
    "outputId": "58aca4a0-85e6-4253-fd36-f82a46db519a"
   },
   "outputs": [],
   "source": [
    "mae = tensorflow.keras.losses.MeanAbsoluteError()\n",
    "abs_error = mae(data_outputs, predictions).numpy()\n",
    "print(\"Absolute Error:\\n\", abs_error)"
   ]
  },
  {
   "cell_type": "markdown",
   "metadata": {
    "id": "Ls6o1TIVPsEW"
   },
   "source": [
    "### Complete Code for Regression Example"
   ]
  },
  {
   "cell_type": "code",
   "execution_count": null,
   "metadata": {
    "colab": {
     "base_uri": "https://localhost:8080/",
     "height": 1000
    },
    "gradient": {},
    "id": "FZ_WWK00-Ujz",
    "outputId": "21d5a05d-c920-4095-b666-9edaa7d81c3c"
   },
   "outputs": [],
   "source": [
    "import tensorflow.keras\n",
    "import pygad.kerasga\n",
    "import numpy\n",
    "import pygad\n",
    "\n",
    "def fitness_func(solution, sol_idx):\n",
    "    global data_inputs, data_outputs, keras_ga, model\n",
    "\n",
    "    model_weights_matrix = pygad.kerasga.model_weights_as_matrix(model=model,\n",
    "                                                                 weights_vector=solution)\n",
    "\n",
    "    model.set_weights(weights=model_weights_matrix)\n",
    "\n",
    "    predictions = model.predict(data_inputs)\n",
    "\n",
    "    mae = tensorflow.keras.losses.MeanAbsoluteError()\n",
    "    error = mae(data_outputs, predictions).numpy()\n",
    "\n",
    "    solution_fitness = 1.0 / (error + 0.00000001)\n",
    "\n",
    "    return solution_fitness\n",
    "\n",
    "def on_generation(ga_instance):\n",
    "    print(\"Generation = {generation}\".format(generation=ga_instance.generations_completed))\n",
    "    print(\"Fitness    = {fitness}\".format(fitness=ga_instance.best_solution(ga_instance.last_generation_fitness)[1]), end='\\n\\n')\n",
    "\n",
    "input_layer  = tensorflow.keras.layers.Input(3)\n",
    "dense_layer1 = tensorflow.keras.layers.Dense(10, activation=\"relu\")(input_layer)\n",
    "output_layer = tensorflow.keras.layers.Dense(1, activation=\"linear\")(dense_layer1)\n",
    "\n",
    "model = tensorflow.keras.Model(inputs=input_layer, outputs=output_layer)\n",
    "\n",
    "weights_vector = pygad.kerasga.model_weights_as_vector(model=model)\n",
    "\n",
    "keras_ga = pygad.kerasga.KerasGA(model=model,\n",
    "                                 num_solutions=10)\n",
    "\n",
    "# Data inputs\n",
    "data_inputs = numpy.array([[0.02, 0.1, 0.15],\n",
    "                           [0.7, 0.6, 0.8],\n",
    "                           [1.5, 1.2, 1.7],\n",
    "                           [3.2, 2.9, 3.1]])\n",
    "\n",
    "# Data outputs\n",
    "data_outputs = numpy.array([[0.1],\n",
    "                            [0.6],\n",
    "                            [1.3],\n",
    "                            [2.5]])\n",
    "\n",
    "ga_instance = pygad.GA(num_generations=250, \n",
    "                       num_parents_mating=5, \n",
    "                       fitness_func=fitness_func,\n",
    "                       initial_population=keras_ga.population_weights,\n",
    "                       on_generation=on_generation,\n",
    "                       suppress_warnings=True)\n",
    "ga_instance.run()\n",
    "\n",
    "# After the generations complete, some plots are showed that summarize how the outputs/fitness values evolve over generations.\n",
    "fig = ga_instance.plot_result(title=\"PyGAD & Keras - Iteration vs. Fitness\", linewidth=4)\n",
    "\n",
    "# Returning the details of the best solution.\n",
    "solution, solution_fitness, _ = ga_instance.best_solution()\n",
    "print(\"Parameters of the best solution:\\n{solution}\".format(solution=solution), end=\"\\n\\n\")\n",
    "\n",
    "# This is equation to the number of trainable parameters in the Keras model.\n",
    "print(\"Length of the solution is:\", len(solution), end='\\n\\n')\n",
    "\n",
    "print(\"Fitness value of the best solution:\\n{solution_fitness}\".format(solution_fitness=solution_fitness), end='\\n\\n')\n",
    "\n",
    "# Fetch the parameters of the best solution.\n",
    "best_solution_weights = pygad.kerasga.model_weights_as_matrix(model=model,\n",
    "                                                              weights_vector=solution)\n",
    "model.set_weights(best_solution_weights)\n",
    "predictions = model.predict(data_inputs)\n",
    "print(\"Predictions:\\n\", predictions, end='\\n\\n')\n",
    "\n",
    "print(\"Correct Outputs:\\n\", data_outputs, end='\\n\\n')\n",
    "\n",
    "mae = tensorflow.keras.losses.MeanAbsoluteError()\n",
    "abs_error = mae(data_outputs, predictions).numpy()\n",
    "print(\"Absolute Error:\\n\", abs_error)"
   ]
  },
  {
   "cell_type": "markdown",
   "metadata": {
    "id": "7JWlbKiKS0GB"
   },
   "source": [
    "## Train Keras Classification Model with PyGAD\n",
    "1. Prepare the training data\n",
    "2. Build the Keras model\n",
    "3. Create an instance of the `pygad.kerasga.KerasGA` Class\n",
    "4. Build the fitness function\n",
    "5. Create an instance of the `pygad.GA` class\n",
    "6. Call the `run()` method\n",
    "7. Plot results\n",
    "8. Information about the best solution\n",
    "9. Use the trained model to make predictions\n",
    "10. Evaluate the model by calculating the error"
   ]
  },
  {
   "cell_type": "markdown",
   "metadata": {
    "id": "UrrN_lHGWGhw"
   },
   "source": [
    "### 1. Train Data\n",
    "The example builds the inputs and outputs for an XOR gate"
   ]
  },
  {
   "cell_type": "code",
   "execution_count": null,
   "metadata": {
    "gradient": {},
    "id": "ZS4d9W-1QMbB"
   },
   "outputs": [],
   "source": [
    "# XOR problem inputs\n",
    "data_inputs = numpy.array([[0.0, 0.0],\n",
    "                           [0.0, 1.0],\n",
    "                           [1.0, 0.0],\n",
    "                           [1.0, 1.0]])\n",
    "\n",
    "# XOR problem outputs\n",
    "data_outputs = numpy.array([[1.0, 0.0],\n",
    "                            [0.0, 1.0],\n",
    "                            [0.0, 1.0],\n",
    "                            [1.0, 0.0]])"
   ]
  },
  {
   "cell_type": "markdown",
   "metadata": {
    "id": "JSdms_xiWTuY"
   },
   "source": [
    "### 2. Keras Model\n",
    "The output layer uses 2 neurons with the `softmax` activation function."
   ]
  },
  {
   "cell_type": "code",
   "execution_count": null,
   "metadata": {
    "gradient": {},
    "id": "vyH6bJ7QVUap"
   },
   "outputs": [],
   "source": [
    "input_layer  = tensorflow.keras.layers.Input(2)\n",
    "dense_layer = tensorflow.keras.layers.Dense(4, activation=\"relu\")(input_layer)\n",
    "output_layer = tensorflow.keras.layers.Dense(2, activation=\"softmax\")(dense_layer)\n",
    "\n",
    "model = tensorflow.keras.Model(inputs=input_layer, outputs=output_layer)"
   ]
  },
  {
   "cell_type": "markdown",
   "metadata": {
    "id": "eVFeavI4WdUe"
   },
   "source": [
    "#### Model Summary\n",
    "The model has 22 trainable parameters."
   ]
  },
  {
   "cell_type": "code",
   "execution_count": null,
   "metadata": {
    "colab": {
     "base_uri": "https://localhost:8080/"
    },
    "gradient": {},
    "id": "d5wuBLRGWex2",
    "outputId": "4717cade-b7e7-48aa-a871-ebd39f25ca3a"
   },
   "outputs": [],
   "source": [
    "model.summary()"
   ]
  },
  {
   "cell_type": "markdown",
   "metadata": {
    "id": "GUr1qX01WxMH"
   },
   "source": [
    "### 3. Instantiating the `pygad.kerasga.KerasGA` Class"
   ]
  },
  {
   "cell_type": "code",
   "execution_count": null,
   "metadata": {
    "gradient": {},
    "id": "Z2qZrgb9WxoQ"
   },
   "outputs": [],
   "source": [
    "keras_ga = pygad.kerasga.KerasGA(model=model,\n",
    "                                 num_solutions=10)"
   ]
  },
  {
   "cell_type": "markdown",
   "metadata": {
    "id": "hqIFs9JOWx4P"
   },
   "source": [
    "### 4. Fitness Function\n",
    "The binary cross-entropy loss is used. "
   ]
  },
  {
   "cell_type": "code",
   "execution_count": null,
   "metadata": {
    "gradient": {},
    "id": "YMeHwuo-VUnB"
   },
   "outputs": [],
   "source": [
    "def fitness_func(solution, sol_idx):\n",
    "    global data_inputs, data_outputs, keras_ga, model\n",
    "\n",
    "    model_weights_matrix = pygad.kerasga.model_weights_as_matrix(model=model,\n",
    "                                                                 weights_vector=solution)\n",
    "\n",
    "    model.set_weights(weights=model_weights_matrix)\n",
    "\n",
    "    predictions = model.predict(data_inputs)\n",
    "    \n",
    "    bce = tensorflow.keras.losses.BinaryCrossentropy()\n",
    "    error = bce(data_outputs, predictions).numpy()\n",
    "\n",
    "    fitness = 1.0 / (bce(data_outputs, predictions).numpy() + 0.00000001)\n",
    "\n",
    "    return fitness"
   ]
  },
  {
   "cell_type": "code",
   "execution_count": null,
   "metadata": {
    "gradient": {},
    "id": "Tp5QcAQ8Zs5Q"
   },
   "outputs": [],
   "source": [
    "def on_generation(ga_instance):\n",
    "    print(\"Generation = {generation}\".format(generation=ga_instance.generations_completed))\n",
    "    print(\"Fitness    = {fitness}\".format(fitness=ga_instance.best_solution(ga_instance.last_generation_fitness)[1]), end='\\n\\n')"
   ]
  },
  {
   "cell_type": "markdown",
   "metadata": {
    "id": "93FKJIYDXK5P"
   },
   "source": [
    "### 5. Instantiating the `pygad.GA` Class"
   ]
  },
  {
   "cell_type": "code",
   "execution_count": null,
   "metadata": {
    "gradient": {},
    "id": "YSADWlscWx_o"
   },
   "outputs": [],
   "source": [
    "ga_instance = pygad.GA(num_generations=250, \n",
    "                       num_parents_mating=5, \n",
    "                       fitness_func=fitness_func,\n",
    "                       initial_population=keras_ga.population_weights,\n",
    "                       on_generation=on_generation,\n",
    "                       suppress_warnings=True)"
   ]
  },
  {
   "cell_type": "markdown",
   "metadata": {
    "id": "JpL1mlbWWyFv"
   },
   "source": [
    "### 6. Call the `run()` Method"
   ]
  },
  {
   "cell_type": "code",
   "execution_count": null,
   "metadata": {
    "colab": {
     "base_uri": "https://localhost:8080/"
    },
    "gradient": {},
    "id": "-upHrE-gWyLx",
    "outputId": "f7fc8719-3ca2-4553-d58a-d39cbf0d8928"
   },
   "outputs": [],
   "source": [
    "ga_instance.run()"
   ]
  },
  {
   "cell_type": "markdown",
   "metadata": {
    "id": "KQG8DsPfYVnI"
   },
   "source": [
    "### 7. Plot Results"
   ]
  },
  {
   "cell_type": "code",
   "execution_count": null,
   "metadata": {
    "colab": {
     "base_uri": "https://localhost:8080/",
     "height": 295
    },
    "gradient": {},
    "id": "H924Jk_xYX8A",
    "outputId": "a2379fe6-19dc-4f96-fa32-c81e7db78bb5"
   },
   "outputs": [],
   "source": [
    "fig = ga_instance.plot_result(title=\"PyGAD & Keras - Iteration vs. Fitness\", linewidth=4)"
   ]
  },
  {
   "cell_type": "markdown",
   "metadata": {
    "id": "9-lguUJia58e"
   },
   "source": [
    "### 8. Information about the Best Solution"
   ]
  },
  {
   "cell_type": "code",
   "execution_count": null,
   "metadata": {
    "colab": {
     "base_uri": "https://localhost:8080/"
    },
    "gradient": {},
    "id": "WUaFG642a8re",
    "outputId": "7298da49-23cb-433d-cc3a-cd3b0a99c04c"
   },
   "outputs": [],
   "source": [
    "solution, solution_fitness, _ = ga_instance.best_solution()\n",
    "print(\"Parameters of the best solution:\\n{solution}\".format(solution=solution), end=\"\\n\\n\")\n",
    "\n",
    "# This is equation to the number of trainable parameters in the Keras model.\n",
    "print(\"Length of the solution is:\", len(solution), end='\\n\\n')\n",
    "\n",
    "print(\"Fitness value of the best solution:\\n{solution_fitness}\".format(solution_fitness=solution_fitness), end='\\n\\n')"
   ]
  },
  {
   "cell_type": "markdown",
   "metadata": {
    "id": "ocaf4zQXXbnB"
   },
   "source": [
    "### 9. Make Prediction"
   ]
  },
  {
   "cell_type": "code",
   "execution_count": null,
   "metadata": {
    "colab": {
     "base_uri": "https://localhost:8080/"
    },
    "gradient": {},
    "id": "SGecqVfgXbwR",
    "outputId": "69f2e758-7df4-47d4-c3c8-8304d930af1a"
   },
   "outputs": [],
   "source": [
    "best_solution_weights = pygad.kerasga.model_weights_as_matrix(model=model,\n",
    "                                                              weights_vector=solution)\n",
    "model.set_weights(best_solution_weights)\n",
    "predictions = model.predict(data_inputs)\n",
    "print(\"Predictions:\\n\", predictions, end='\\n\\n')\n",
    "\n",
    "print(\"Correct Outputs:\\n\", data_outputs, end='\\n\\n')"
   ]
  },
  {
   "cell_type": "markdown",
   "metadata": {
    "id": "CEw5qsjGXb2_"
   },
   "source": [
    "### 10. Measure the Loss & Accuracy"
   ]
  },
  {
   "cell_type": "code",
   "execution_count": null,
   "metadata": {
    "colab": {
     "base_uri": "https://localhost:8080/"
    },
    "gradient": {},
    "id": "Nb8sCaLZXb9p",
    "outputId": "7a829847-394d-4d91-f34a-bd571af6d294"
   },
   "outputs": [],
   "source": [
    "bce = tensorflow.keras.losses.BinaryCrossentropy()\n",
    "print(\"Binary Crossentropy : \", bce(data_outputs, predictions).numpy())\n",
    "\n",
    "ba = tensorflow.keras.metrics.BinaryAccuracy()\n",
    "ba.update_state(data_outputs, predictions)\n",
    "accuracy = ba.result().numpy()\n",
    "print(\"Accuracy : \", accuracy)"
   ]
  },
  {
   "cell_type": "markdown",
   "metadata": {
    "id": "pGnAVU2zXcHe"
   },
   "source": [
    "## Complete Code for Classification Example"
   ]
  },
  {
   "cell_type": "code",
   "execution_count": null,
   "metadata": {
    "colab": {
     "base_uri": "https://localhost:8080/",
     "height": 1000
    },
    "gradient": {},
    "id": "wTPCQ-PLXcNG",
    "outputId": "10ec84ac-2a9f-42ad-cf3a-7711857d4a7e"
   },
   "outputs": [],
   "source": [
    "import tensorflow.keras\n",
    "import pygad.kerasga\n",
    "import numpy\n",
    "import pygad\n",
    "\n",
    "# XOR problem inputs\n",
    "data_inputs = numpy.array([[0.0, 0.0],\n",
    "                           [0.0, 1.0],\n",
    "                           [1.0, 0.0],\n",
    "                           [1.0, 1.0]])\n",
    "    \n",
    "# XOR problem outputs\n",
    "data_outputs = numpy.array([[1.0, 0.0],\n",
    "                            [0.0, 1.0],\n",
    "                            [0.0, 1.0],\n",
    "                            [1.0, 0.0]])\n",
    "\n",
    "input_layer  = tensorflow.keras.layers.Input(2)\n",
    "dense_layer = tensorflow.keras.layers.Dense(4, activation=\"relu\")(input_layer)\n",
    "output_layer = tensorflow.keras.layers.Dense(2, activation=\"softmax\")(dense_layer)\n",
    "\n",
    "model = tensorflow.keras.Model(inputs=input_layer, outputs=output_layer)\n",
    "\n",
    "model.summary()\n",
    "\n",
    "keras_ga = pygad.kerasga.KerasGA(model=model,\n",
    "                                 num_solutions=10)\n",
    "\n",
    "def fitness_func(solution, sol_idx):\n",
    "    global data_inputs, data_outputs, keras_ga, model\n",
    "\n",
    "    model_weights_matrix = pygad.kerasga.model_weights_as_matrix(model=model,\n",
    "                                                                 weights_vector=solution)\n",
    "\n",
    "    model.set_weights(weights=model_weights_matrix)\n",
    "\n",
    "    predictions = model.predict(data_inputs)\n",
    "    \n",
    "    bce = tensorflow.keras.losses.BinaryCrossentropy()\n",
    "    error = bce(data_outputs, predictions).numpy()\n",
    "\n",
    "    fitness = 1.0 / (bce(data_outputs, predictions).numpy() + 0.00000001)\n",
    "\n",
    "    return fitness\n",
    "\n",
    "def on_generation(ga_instance):\n",
    "    print(\"Generation = {generation}\".format(generation=ga_instance.generations_completed))\n",
    "    print(\"Fitness    = {fitness}\".format(fitness=ga_instance.best_solution(ga_instance.last_generation_fitness)[1]), end='\\n\\n')\n",
    "\n",
    "ga_instance = pygad.GA(num_generations=250, \n",
    "                       num_parents_mating=5, \n",
    "                       fitness_func=fitness_func,\n",
    "                       initial_population=keras_ga.population_weights,\n",
    "                       on_generation=on_generation,\n",
    "                       suppress_warnings=True)\n",
    "\n",
    "ga_instance.run()\n",
    "\n",
    "fig = ga_instance.plot_result(title=\"PyGAD & Keras - Iteration vs. Fitness\", linewidth=4)\n",
    "\n",
    "solution, solution_fitness, _ = ga_instance.best_solution()\n",
    "print(\"Parameters of the best solution:\\n{solution}\".format(solution=solution), end=\"\\n\\n\")\n",
    "\n",
    "# This is equation to the number of trainable parameters in the Keras model.\n",
    "print(\"Length of the solution is:\", len(solution), end='\\n\\n')\n",
    "\n",
    "print(\"Fitness value of the best solution:\\n{solution_fitness}\".format(solution_fitness=solution_fitness), end='\\n\\n')\n",
    "\n",
    "best_solution_weights = pygad.kerasga.model_weights_as_matrix(model=model,\n",
    "                                                              weights_vector=solution)\n",
    "model.set_weights(best_solution_weights)\n",
    "predictions = model.predict(data_inputs)\n",
    "print(\"Predictions:\\n\", predictions, end='\\n\\n')\n",
    "\n",
    "print(\"Correct Outputs:\\n\", data_outputs, end='\\n\\n')\n",
    "\n",
    "bce = tensorflow.keras.losses.BinaryCrossentropy()\n",
    "print(\"Binary Crossentropy : \", bce(data_outputs, predictions).numpy())\n",
    "\n",
    "ba = tensorflow.keras.metrics.BinaryAccuracy()\n",
    "ba.update_state(data_outputs, predictions)\n",
    "accuracy = ba.result().numpy()\n",
    "print(\"Accuracy : \", accuracy)"
   ]
  }
 ],
 "metadata": {
  "colab": {
   "collapsed_sections": [],
   "name": "Paperspace_Gradient_Keras_PyGAD.ipynb",
   "provenance": [],
   "toc_visible": true
  },
  "kernelspec": {
   "display_name": "Python 3",
   "language": "python",
   "name": "python3"
  },
  "language_info": {
   "codemirror_mode": {
    "name": "ipython",
    "version": 3
   },
   "file_extension": ".py",
   "mimetype": "text/x-python",
   "name": "python",
   "nbconvert_exporter": "python",
   "pygments_lexer": "ipython3",
   "version": "3.6.8"
  }
 },
 "nbformat": 4,
 "nbformat_minor": 1
}
