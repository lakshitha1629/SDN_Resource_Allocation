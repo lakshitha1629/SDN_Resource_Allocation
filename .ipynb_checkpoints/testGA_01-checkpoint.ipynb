{
 "cells": [
  {
   "cell_type": "code",
   "execution_count": 1,
   "metadata": {},
   "outputs": [],
   "source": [
    "import pygad\n",
    "import numpy"
   ]
  },
  {
   "cell_type": "code",
   "execution_count": 2,
   "metadata": {},
   "outputs": [
    {
     "ename": "NameError",
     "evalue": "name 'function_inputs' is not defined",
     "output_type": "error",
     "traceback": [
      "\u001b[1;31m---------------------------------------------------------------------------\u001b[0m",
      "\u001b[1;31mNameError\u001b[0m                                 Traceback (most recent call last)",
      "\u001b[1;32m<ipython-input-2-2c2a980b43b2>\u001b[0m in \u001b[0;36m<module>\u001b[1;34m\u001b[0m\n\u001b[0;32m     20\u001b[0m                        \u001b[0mfitness_func\u001b[0m\u001b[1;33m=\u001b[0m\u001b[0mfitness_func\u001b[0m\u001b[1;33m,\u001b[0m\u001b[1;33m\u001b[0m\u001b[1;33m\u001b[0m\u001b[0m\n\u001b[0;32m     21\u001b[0m                        \u001b[0msol_per_pop\u001b[0m\u001b[1;33m=\u001b[0m\u001b[1;36m20\u001b[0m\u001b[1;33m,\u001b[0m\u001b[1;33m\u001b[0m\u001b[1;33m\u001b[0m\u001b[0m\n\u001b[1;32m---> 22\u001b[1;33m                        \u001b[0mnum_genes\u001b[0m\u001b[1;33m=\u001b[0m\u001b[0mlen\u001b[0m\u001b[1;33m(\u001b[0m\u001b[0mfunction_inputs\u001b[0m\u001b[1;33m)\u001b[0m\u001b[1;33m,\u001b[0m \u001b[1;31m# 4 in this example\u001b[0m\u001b[1;33m\u001b[0m\u001b[1;33m\u001b[0m\u001b[0m\n\u001b[0m\u001b[0;32m     23\u001b[0m                        suppress_warnings=True)\n\u001b[0;32m     24\u001b[0m \u001b[1;33m\u001b[0m\u001b[0m\n",
      "\u001b[1;31mNameError\u001b[0m: name 'function_inputs' is not defined"
     ]
    }
   ],
   "source": [
    "X = [4, -1, 0.3, 7.2]\n",
    "function_inputs = X\n",
    "Y = 9\n",
    "\n",
    "# Y = w1X1 + w2X2 + w3X3 + w4X4\n",
    "\n",
    "def fitness_func(solution, solution_idx):\n",
    "\n",
    "    # SOP between each w and X.\n",
    "    output = numpy.sum(solution*X)\n",
    "\n",
    "    error = numpy.abs(output - Y)\n",
    "\n",
    "    # The error may be 0.\n",
    "    fitness = 1.0 / ( error + 0.000001)\n",
    "\n",
    "    return fitness\n",
    "\n",
    "ga_instance = pygad.GA(num_generations=100,\n",
    "                       num_parents_mating=10,\n",
    "                       fitness_func=fitness_func,\n",
    "                       sol_per_pop=20,\n",
    "                       num_genes=len(function_inputs), # 4 in this example\n",
    "                       suppress_warnings=True)\n",
    "\n",
    "ga_instance.run()\n",
    "\n",
    "fig = ga_instance.plot_result()\n",
    "\n",
    "solution, solution_fitness, _ = ga_instance.best_solution()\n",
    "print(\"Parameters of the best solution:\\n{solution}\".format(solution=solution), end=\"\\n\\n\")\n",
    "print(\"Fitness value of the best solution:\\n{solution_fitness}\".format(solution_fitness=solution_fitness), end=\"\\n\\n\")\n",
    "\n",
    "prediction = numpy.sum(numpy.array(function_inputs)*solution)\n",
    "print(\"Predicted output based on the best solution:\\n{prediction}\".format(prediction=prediction), end=\"\\n\\n\")\n",
    "\n",
    "if ga_instance.best_solution_generation != -1:\n",
    "    print(\"Best fitness value reached after {best_solution_generation} generations.\".format(best_solution_generation=ga_instance.best_solution_generation))"
   ]
  },
  {
   "cell_type": "code",
   "execution_count": null,
   "metadata": {},
   "outputs": [],
   "source": []
  }
 ],
 "metadata": {
  "kernelspec": {
   "display_name": "Python 3",
   "language": "python",
   "name": "python3"
  },
  "language_info": {
   "codemirror_mode": {
    "name": "ipython",
    "version": 3
   },
   "file_extension": ".py",
   "mimetype": "text/x-python",
   "name": "python",
   "nbconvert_exporter": "python",
   "pygments_lexer": "ipython3",
   "version": "3.6.13"
  }
 },
 "nbformat": 4,
 "nbformat_minor": 2
}
