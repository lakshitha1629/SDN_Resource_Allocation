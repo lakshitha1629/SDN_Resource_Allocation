{
 "cells": [
  {
   "cell_type": "code",
   "execution_count": 50,
   "id": "edfcceec",
   "metadata": {},
   "outputs": [],
   "source": [
    "import mysql.connector"
   ]
  },
  {
   "cell_type": "code",
   "execution_count": 58,
   "id": "c7f4bfaa",
   "metadata": {},
   "outputs": [],
   "source": [
    "def convertLogToJson(result):\n",
    "    try:\n",
    "        send_data_arr = []\n",
    "        resultList = list(result)\n",
    "        TIERTYPE = [\"St1.Nano\",\"Mt2.GP\",\"Lt3.Large\",\"Lt4.Xlarge\",\"Mt5.Prem\"]\n",
    "        RAM = [0.5,1.0,2.0,4.0,8.0]\n",
    "        VCPUS = [2,2,2,2,2]\n",
    "        NETWORKBANDWIDTH = [5,5,5,5,5]\n",
    "        for value in resultList:\n",
    "            send_data = {}\n",
    "            send_data['tierType'] = TIERTYPE[value[1]]\n",
    "            send_data['NetworkBandwidth'] = NETWORKBANDWIDTH[value[1]]\n",
    "            send_data['RAM'] = RAM[value[1]]\n",
    "            send_data['vCPUs'] = VCPUS[value[1]]\n",
    "            send_data['IP_address']  = value[2]\n",
    "            send_data_arr.append(send_data)\n",
    "        return send_data_arr\n",
    "    except KeyError:\n",
    "        print('Execution Time: convert Log To Json --> KeyError')"
   ]
  },
  {
   "cell_type": "code",
   "execution_count": 59,
   "id": "40abeb6e",
   "metadata": {},
   "outputs": [],
   "source": [
    "def addDataToTheDataLog(mydb, tierType, IP_address):\n",
    "    sql = \"INSERT INTO data_log (tierType, IP_address) VALUES (%s, %s)\"\n",
    "    val = (tierType, str(IP_address))\n",
    "    mycursor.execute(sql, val)\n",
    "    mydb.commit()\n",
    "    return True"
   ]
  },
  {
   "cell_type": "code",
   "execution_count": 60,
   "id": "b83b14d7",
   "metadata": {},
   "outputs": [
    {
     "name": "stdout",
     "output_type": "stream",
     "text": [
      "[{'tierType': 'Mt2.GP', 'NetworkBandwidth': 5, 'RAM': 1.0, 'vCPUs': 2, 'IP_address': '192.168.20.85'}, {'tierType': 'Mt2.GP', 'NetworkBandwidth': 5, 'RAM': 1.0, 'vCPUs': 2, 'IP_address': '192.168.20.56'}]\n"
     ]
    }
   ],
   "source": [
    "mydb = mysql.connector.connect(\n",
    "    host=\"database-1.ckbdn0ey3gu5.us-east-2.rds.amazonaws.com\",\n",
    "    user=\"admin\",\n",
    "    password=\"admin123\",\n",
    "    database=\"sdnDB\"\n",
    ")\n",
    "mycursor = mydb.cursor()\n",
    "mycursor.execute(\"SELECT * FROM data_log\")\n",
    "myresult = mycursor.fetchall()\n",
    "\n",
    "print(convertLogToJson(myresult))"
   ]
  },
  {
   "cell_type": "code",
   "execution_count": null,
   "id": "2322b16b",
   "metadata": {},
   "outputs": [],
   "source": []
  },
  {
   "cell_type": "code",
   "execution_count": null,
   "id": "6c5a00c0",
   "metadata": {},
   "outputs": [],
   "source": []
  }
 ],
 "metadata": {
  "kernelspec": {
   "display_name": "Python 3",
   "language": "python",
   "name": "python3"
  },
  "language_info": {
   "codemirror_mode": {
    "name": "ipython",
    "version": 3
   },
   "file_extension": ".py",
   "mimetype": "text/x-python",
   "name": "python",
   "nbconvert_exporter": "python",
   "pygments_lexer": "ipython3",
   "version": "3.6.13"
  }
 },
 "nbformat": 4,
 "nbformat_minor": 5
}
