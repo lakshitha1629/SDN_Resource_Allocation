{
 "cells": [
  {
   "cell_type": "code",
   "execution_count": 1,
   "id": "edfcceec",
   "metadata": {},
   "outputs": [],
   "source": [
    "import mysql.connector"
   ]
  },
  {
   "cell_type": "code",
   "execution_count": 2,
   "id": "c7f4bfaa",
   "metadata": {},
   "outputs": [],
   "source": [
    "def convertLogToJson(result):\n",
    "    try:\n",
    "        send_data_arr = []\n",
    "        resultList = list(result)\n",
    "        TIERTYPE = [\"St1.Nano\",\"Mt2.GP\",\"Lt3.Large\",\"Lt4.Xlarge\",\"Mt5.Prem\"]\n",
    "        RAM = [0.5,1.0,2.0,4.0,8.0]\n",
    "        VCPUS = [2,2,2,2,2]\n",
    "        NETWORKBANDWIDTH = [5,5,5,5,5]\n",
    "        for value in resultList:\n",
    "            send_data = {}\n",
    "            send_data['tierType'] = TIERTYPE[value[1]]\n",
    "            send_data['NetworkBandwidth'] = NETWORKBANDWIDTH[value[1]]\n",
    "            send_data['RAM'] = RAM[value[1]]\n",
    "            send_data['vCPUs'] = VCPUS[value[1]]\n",
    "            send_data['IP_address']  = value[2]\n",
    "            send_data_arr.append(send_data)\n",
    "        return send_data_arr\n",
    "    except KeyError:\n",
    "        print('Execution Time: convert Log To Json --> KeyError')"
   ]
  },
  {
   "cell_type": "code",
   "execution_count": 3,
   "id": "40abeb6e",
   "metadata": {},
   "outputs": [],
   "source": [
    "def addDataToTheDataLog(mydb, tierType, IP_address):\n",
    "    sql = \"INSERT INTO data_log (tierType, IP_address) VALUES (%s, %s)\"\n",
    "    val = (tierType, str(IP_address))\n",
    "    mycursor.execute(sql, val)\n",
    "    mydb.commit()\n",
    "    return True"
   ]
  },
  {
   "cell_type": "code",
   "execution_count": 4,
   "id": "b83b14d7",
   "metadata": {},
   "outputs": [
    {
     "name": "stdout",
     "output_type": "stream",
     "text": [
      "[{'tierType': 'Mt2.GP', 'NetworkBandwidth': 5, 'RAM': 1.0, 'vCPUs': 2, 'IP_address': ' http://3.141.199.143'}, {'tierType': 'Lt3.Large', 'NetworkBandwidth': 5, 'RAM': 2.0, 'vCPUs': 2, 'IP_address': ' http://3.128.34.108'}, {'tierType': 'Lt4.Xlarge', 'NetworkBandwidth': 5, 'RAM': 4.0, 'vCPUs': 2, 'IP_address': ' http://18.216.198.194'}]\n"
     ]
    }
   ],
   "source": [
    "mydb = mysql.connector.connect(\n",
    "    host=\"database-1.ckbdn0ey3gu5.us-east-2.rds.amazonaws.com\",\n",
    "    user=\"admin\",\n",
    "    password=\"admin123\",\n",
    "    database=\"sdnDB\"\n",
    ")\n",
    "mycursor = mydb.cursor()\n",
    "mycursor.execute(\"SELECT * FROM data_log\")\n",
    "myresult = mycursor.fetchall()\n",
    "\n",
    "print(convertLogToJson(myresult))"
   ]
  },
  {
   "cell_type": "code",
   "execution_count": 5,
   "id": "d14e73ef",
   "metadata": {},
   "outputs": [],
   "source": [
    "data = convertLogToJson(myresult)"
   ]
  },
  {
   "cell_type": "code",
   "execution_count": 6,
   "id": "6c5a00c0",
   "metadata": {},
   "outputs": [],
   "source": [
    "import random\n",
    "import requests\n",
    "from server import Server\n",
    "\n",
    "def sendData(data):\n",
    "    try:\n",
    "        #instantiating some servers\n",
    "        s1 = Server(data[0]['vCPUs'],data[0]['RAM'],data[0]['IP_address']) #the total is 50\n",
    "        s2 = Server(data[1]['vCPUs'],data[1]['RAM'],data[1]['IP_address']) #the total is 30\n",
    "        s3 = Server(data[2]['vCPUs'],data[2]['RAM'],data[2]['IP_address']) #the total is 20\n",
    "\n",
    "        total = (s1.RAM + s1.cpuCores) + (s2.RAM + s2.cpuCores) + (s3.RAM + s3.cpuCores)\n",
    "\n",
    "        #calculating server selection probability for each server\n",
    "        s1_prob = int(((s1.RAM + s1.cpuCores) / (total))*10)\n",
    "        s2_prob = int(((s2.RAM + s2.cpuCores) / (total))*10)\n",
    "        s3_prob = int(((s3.RAM + s3.cpuCores) / (total))*10)\n",
    "\n",
    "        #server selection process\n",
    "        for i in range(1,10):\n",
    "            pos = {'server 1': s1_prob, 'server 2': s2_prob, 'server 3': s3_prob}\n",
    "            choice = random.choice([x for x in pos for y in range(pos[x])]) #making the random choice\n",
    "\n",
    "            if(choice == \"server 1\"):\n",
    "                r =requests.get(s1.ip)\n",
    "                print(\"IP address: \",s1.ip) \n",
    "                return s1.ip\n",
    "            elif(choice == \"server 2\"):\n",
    "                r =requests.get(s2.ip)\n",
    "                print(\"IP address: \",s2.ip)\n",
    "                return s2.ip\n",
    "            else:\n",
    "                r =requests.get(s3.ip)\n",
    "                print(\"IP address: \",s3.ip)\n",
    "                return s3.ip\n",
    "        \n",
    "    except KeyError:\n",
    "        return False\n",
    "    "
   ]
  },
  {
   "cell_type": "code",
   "execution_count": 7,
   "id": "bde6d3a7",
   "metadata": {},
   "outputs": [
    {
     "name": "stdout",
     "output_type": "stream",
     "text": [
      "IP address:   http://18.216.198.194\n"
     ]
    },
    {
     "data": {
      "text/plain": [
       "' http://18.216.198.194'"
      ]
     },
     "execution_count": 7,
     "metadata": {},
     "output_type": "execute_result"
    }
   ],
   "source": [
    "sendData(convertLogToJson(myresult))"
   ]
  }
 ],
 "metadata": {
  "kernelspec": {
   "display_name": "Python 3",
   "language": "python",
   "name": "python3"
  },
  "language_info": {
   "codemirror_mode": {
    "name": "ipython",
    "version": 3
   },
   "file_extension": ".py",
   "mimetype": "text/x-python",
   "name": "python",
   "nbconvert_exporter": "python",
   "pygments_lexer": "ipython3",
   "version": "3.6.13"
  }
 },
 "nbformat": 4,
 "nbformat_minor": 5
}
